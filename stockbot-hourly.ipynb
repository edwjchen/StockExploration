{
 "cells": [
  {
   "cell_type": "code",
   "execution_count": 1,
   "metadata": {},
   "outputs": [
    {
     "name": "stderr",
     "output_type": "stream",
     "text": [
      "Using TensorFlow backend.\n"
     ]
    }
   ],
   "source": [
    "import requests\n",
    "import time\n",
    "import json\n",
    "import numpy as np\n",
    "import pandas as pd\n",
    "import matplotlib.pyplot as plt\n",
    "from sklearn.metrics import mean_squared_error\n",
    "import statsmodels.api as sm\n",
    "from scipy import linalg\n",
    "from sklearn.linear_model import Ridge\n",
    "from pytrends.request import TrendReq\n",
    "import os.path\n",
    "from sklearn.preprocessing import StandardScaler\n",
    "import tensorflow as tf\n",
    "from sklearn.preprocessing import MinMaxScaler\n",
    "from tensorflow import keras\n",
    "from keras.models import Sequential\n",
    "from keras.layers import Dense\n",
    "from keras.layers import LSTM"
   ]
  },
  {
   "cell_type": "code",
   "execution_count": 2,
   "metadata": {},
   "outputs": [],
   "source": [
    "# From https://stackoverflow.com/questions/50786266/writing-dictionary-of-dataframes-to-file\n",
    "import csv\n",
    "import pandas as pd\n",
    "\n",
    "def save_dict_df(dictex, keys_filename=\"keys.txt\", data_folder=\"hourly_stock_data\"):\n",
    "    for key, val in dictex.items():\n",
    "        val.to_csv(\"./\"+data_folder+\"/data_{}.csv\".format(str(key)))\n",
    "\n",
    "    with open(keys_filename, \"w\") as f: #saving keys to file\n",
    "        f.write(str(list(dictex.keys())))\n",
    "\n",
    "def load_dict_df(keys_filename=\"keys.txt\", data_folder=\"hourly_stock_data\"):\n",
    "    \"\"\"Reading data from keys\"\"\"\n",
    "    with open(keys_filename, \"r\") as f:\n",
    "        keys = eval(f.read())\n",
    "\n",
    "    dictex = {}    \n",
    "    for key in keys:\n",
    "        dictex[key] = pd.read_csv(\"./\"+data_folder+\"/data_{}.csv\".format(str(key)), index_col=0)\n",
    "\n",
    "    return dictex"
   ]
  },
  {
   "cell_type": "code",
   "execution_count": 3,
   "metadata": {},
   "outputs": [],
   "source": [
    "companies = ['tesla', 'facebook', 'microsoft', 'amazon', 'google', 'uber', 'lyft', 'apple', 'snap']\n",
    "key_terms = ['report', 'good', 'bad', 'up', 'down', 'stock']\n",
    "company_symbol = ['TSLA', 'FB', 'MSFT', 'AMZN', 'GOOGL', 'UBER', 'LYFT', 'AAPL', 'SNAP']\n",
    "stock_columns = ['open', 'high', 'low', 'close', 'volume']"
   ]
  },
  {
   "cell_type": "code",
   "execution_count": 4,
   "metadata": {},
   "outputs": [],
   "source": [
    "#create kw_list \n",
    "kw_list = []\n",
    "for c_name in companies:\n",
    "    for k in key_terms:\n",
    "        kw_list.append(c_name + \" \" + k)"
   ]
  },
  {
   "cell_type": "code",
   "execution_count": 5,
   "metadata": {},
   "outputs": [],
   "source": [
    "# Get 3-month ago trend data. May need to run a couple times to make sure it doesn't time out. \n",
    "def getTrendDataDF(kw_list, pull_data=False, dates='today 3-m', pytrends_df_filename=\"hourly_pytrends.csv\"):\n",
    "    # Retrieve the cached trend data\n",
    "    if not pull_data and os.path.isfile(pytrends_df_filename):\n",
    "        df = pd.read_csv(pytrends_df_filename, index_col=\"date\")\n",
    "        \n",
    "    else: # Construct the dataframe by making pytrends calls\n",
    "        df = pd.DataFrame()\n",
    "        data = {}\n",
    "        #print(df.empty)\n",
    "        pytrends = TrendReq(hl='en-US', tz=360)\n",
    "        for kw in kw_list:\n",
    "            df_temp = pytrends.get_historical_interest([kw], year_start=2019, month_start=11, day_start=25, hour_start=0, year_end=2019, month_end=11, day_end=29, hour_end=23)\n",
    "            df_temp = df_temp.drop(['isPartial'], axis=1)\n",
    "            # print(kw)\n",
    "            data[kw] = df_temp\n",
    "        for kw in kw_list:\n",
    "            if df.empty:\n",
    "                df = data[kw]\n",
    "            else:\n",
    "                df = df.join(data[kw])\n",
    "        df.to_csv(pytrends_df_filename)\n",
    "    #reverse df rows\n",
    "    df = df.iloc[::-1]\n",
    "    return df"
   ]
  },
  {
   "cell_type": "code",
   "execution_count": 6,
   "metadata": {},
   "outputs": [],
   "source": [
    "# Get Stock Hourly info for past 7 days\n",
    "def getHourlyStockInfoDict(company_symbol, pull_data=False, stock_df_filename=\"stock_keys.txt\"):\n",
    "    if not pull_data and os.path.isfile(stock_df_filename):\n",
    "        dict_stocks = load_dict_df(keys_filename=stock_df_filename);\n",
    "    else :\n",
    "        ts = 'TIME_SERIES_INTRADAY'\n",
    "        api_key = ''\n",
    "        interval = '30min'\n",
    "        outputsize = 'full'\n",
    "        dict_stocks = {}\n",
    "        for i, symbol in enumerate(company_symbol):\n",
    "            link = 'https://www.alphavantage.co/query?function={}&symbol={}&interval={}&apikey={}&outputsize={}'\\\n",
    "                .format(ts, symbol, interval, api_key, outputsize)\n",
    "            request = requests.get(link)\n",
    "            data = json.loads(request.text)\n",
    "            # API only give you 5 requests per 5 mins, so break out if response is not what is expected.\n",
    "            while \"Time Series (30min)\" not in data:\n",
    "                print('...sleeping...')\n",
    "                time.sleep(70)\n",
    "                link = 'https://www.alphavantage.co/query?function={}&symbol={}&interval={}&apikey={}&outputsize={}'\\\n",
    "                    .format(ts, symbol, interval, api_key, outputsize)\n",
    "                request = requests.get(link)\n",
    "                data = json.loads(request.text)\n",
    "            stock_data_per_hour = json.dumps(data[\"Time Series (30min)\"])\n",
    "            df_temp = pd.read_json(stock_data_per_hour).transpose()\n",
    "            df_temp.reset_index(level=0, inplace=True)\n",
    "            df_temp.columns = ['times', 'open', 'high', 'low', 'close', 'volume']\n",
    "            dict_stocks[companies[i]] = df_temp\n",
    "        save_dict_df(dict_stocks, keys_filename=stock_df_filename)\n",
    "    return dict_stocks"
   ]
  },
  {
   "cell_type": "code",
   "execution_count": 7,
   "metadata": {},
   "outputs": [],
   "source": [
    "def getTrends(company_name, df_trends):\n",
    "    # Filters the trends\n",
    "    company_keywords =  [x for x in list(df_trends.columns.values) if company_name in x]\n",
    "    return df_trends[company_keywords].copy()\n",
    "    "
   ]
  },
  {
   "cell_type": "code",
   "execution_count": 8,
   "metadata": {},
   "outputs": [],
   "source": [
    "def getJointTimes(df_stock, df_trends): \n",
    "    stock_times = df_stock['times']\n",
    "    trends_times = list(df_trends.index)\n",
    "    return list(set(stock_times) & set(trends_times)) "
   ]
  },
  {
   "cell_type": "code",
   "execution_count": 9,
   "metadata": {},
   "outputs": [],
   "source": [
    "def getOverlapDateData(company_name, dict_stocks, df_trends): \n",
    "    new_df_trends = getTrends(company_name, df_trends)\n",
    "    \n",
    "    joint_times = getJointTimes(dict_stocks[company_name], new_df_trends)\n",
    "    new_df_stocks = dict_stocks[company_name].loc[dict_stocks[company_name]['times'].isin(joint_times)]\n",
    "    new_df_stocks = new_df_stocks.reset_index() \n",
    "    \n",
    "    new_df_trends = new_df_trends.loc[new_df_trends.index.isin(joint_times)]\n",
    "    new_df_trends = new_df_trends.reset_index()\n",
    "    new_df_trends.columns = ['_'.join(x.split()) for x in list(new_df_trends.columns) if len(x) > 1]\n",
    "    df_all_data = new_df_stocks.join(new_df_trends)\n",
    "    return df_all_data\n"
   ]
  },
  {
   "cell_type": "code",
   "execution_count": 10,
   "metadata": {},
   "outputs": [],
   "source": [
    "def trainMultipleRegression(y_col, parameter_cols, training_data): \n",
    "    formula = y_col + ' ~ 1'\n",
    "    for i in parameter_cols: \n",
    "        formula = formula + \" + \" + i\n",
    "\n",
    "    result = sm.formula.ols(formula=formula, data=training_data).fit()\n",
    "    return result"
   ]
  },
  {
   "cell_type": "code",
   "execution_count": 11,
   "metadata": {},
   "outputs": [],
   "source": [
    "def plotMultipleRegressionAndGetMSE(company, result, y_col, cols, all_data, training_data, testing_data):\n",
    "    y_pred = result.predict()\n",
    "    plt.plot(range(len(all_data[y_col])) , all_data[y_col])\n",
    "    plt.plot(range(50), result.predict(training_data[cols]), '-')\n",
    "    plt.plot(range(50, len(df_all_data[y_col])), result.predict(testing_data[cols]), '-')\n",
    "    plt.xlabel('Day')\n",
    "    plt.ylabel('Output $ amount')\n",
    "    plt.title(company + ' Multiple Regression: ' + str(y_col))\n",
    "    plt.legend([\"True Data\",\"Training Data - Price change prediction\", \"Testing Data - Price change prediction\"])\n",
    "    plt.show()\n",
    "    \n",
    "    MSE = mean_squared_error(result.predict(testing_data[cols]), testing_data[y_col]) / (np.mean(testing_data[y_col]) * np.std(testing_data[y_col]))\n",
    "    return MSE"
   ]
  },
  {
   "cell_type": "code",
   "execution_count": 12,
   "metadata": {},
   "outputs": [],
   "source": [
    "def getBestAlphaRidgeRegression(y_col, parameter_cols, df_all_data_train):\n",
    "    df_all_data_test = df_all_data_train[40:]\n",
    "    df_all_data_train = df_all_data_train[:40]\n",
    "    \n",
    "    X = df_all_data_train[parameter_cols]\n",
    "    y = df_all_data_train[y_col]\n",
    "    alpha = []\n",
    "    MSE_train = []\n",
    "    MSE_test = []\n",
    "    for i in range(90, 2000, 10):\n",
    "        clf = Ridge(alpha=i)\n",
    "        clf.fit(X, y) \n",
    "        alpha.append(i)\n",
    "        MSE_train.append(mean_squared_error(clf.predict(df_all_data_train[cols]), df_all_data_train[y_col]))\n",
    "        MSE_test.append(mean_squared_error(clf.predict(df_all_data_test[cols]), df_all_data_test[y_col]))\n",
    "\n",
    "    bestAlpha = alpha[MSE_test.index(min(MSE_test))]\n",
    "    \n",
    "    print(\"alpha: \"+str(bestAlpha))\n",
    "    print(\"Training error = \"+str(mean_squared_error(clf.predict(df_all_data_train[cols]), df_all_data_train[y_col])))\n",
    "    print(\"Testing error = \"+str(mean_squared_error(clf.predict(df_all_data_test[cols]), df_all_data_test[y_col])))\n",
    "    print()\n",
    "    return bestAlpha, clf"
   ]
  },
  {
   "cell_type": "code",
   "execution_count": 13,
   "metadata": {},
   "outputs": [],
   "source": [
    "#ridge regression\n",
    "\n",
    "def trainAndPlotRidgeRegressionAndReturnMSE(company, y_col, parameter_cols, df_all_data_train, df_all_data_test) : \n",
    "    bestAlpha, clf = getBestAlphaRidgeRegression(y_col, parameter_cols, df_all_data_train)\n",
    "    \n",
    "    X = df_all_data_train[parameter_cols]\n",
    "    y = df_all_data_train[y_col]\n",
    "    \n",
    "    #plot data with training and test data\n",
    "    clf = Ridge(alpha=bestAlpha)\n",
    "    clf.fit(X, y) \n",
    "    plt.plot(range(len(df_all_data[y_col])) , df_all_data[y_col])\n",
    "    plt.plot(range(50), clf.predict(df_all_data_train[cols]), '-')\n",
    "    plt.plot(range(50, len(df_all_data[y_col])), clf.predict(df_all_data_test[cols]), '-')\n",
    "    plt.xlabel('Day')\n",
    "    plt.ylabel('Output $ amount')\n",
    "    plt.title(company + ' Ridge Regression: ' + str(y_col))\n",
    "    plt.legend([\"True Data\",\"Training Data - Price change prediction\", \"Testing Data - Price change prediction\"])\n",
    "    plt.show()\n",
    "    \n",
    "    print(clf.get_params())\n",
    "    MSE = mean_squared_error(clf.predict(df_all_data_test[cols]), df_all_data_test[y_col]) / (np.mean(df_all_data_test[y_col]) * np.std(df_all_data_test[y_col]))\n",
    "    return MSE"
   ]
  },
  {
   "cell_type": "code",
   "execution_count": 14,
   "metadata": {},
   "outputs": [],
   "source": [
    "def getMovingAvgAndStdDev(col_name, num_days, df_all_data):\n",
    "    # Moving average and stdev past X days\n",
    "    col_movingAvg = []\n",
    "    col_stdev = []\n",
    "    \n",
    "    num_days_to_average = 10\n",
    "    for i in range(len(df_all_data)):\n",
    "        sum_to_avg = 0\n",
    "        nums = []\n",
    "        num_to_avg = min(num_days_to_average, len(df_all_data) - i) - 1\n",
    "        for j in range(1, num_to_avg):\n",
    "            sum_to_avg += df_all_data[col][i + j]\n",
    "            nums.append(df_all_data[col][i + j])\n",
    "        avg = sum_to_avg / (num_to_avg if num_to_avg > 0 else 1)\n",
    "        stdev = np.std((nums if nums else [0]))\n",
    "\n",
    "        col_movingAvg.append(avg)\n",
    "        col_stdev.append(stdev)\n",
    "    return col_movingAvg, col_stdev"
   ]
  },
  {
   "cell_type": "code",
   "execution_count": 15,
   "metadata": {},
   "outputs": [],
   "source": [
    "def getAllParamCols(df_all_data):\n",
    "    cols = list(df_all_data.columns)\n",
    "    cols.remove('profit')\n",
    "    cols.remove('open')\n",
    "    cols.remove('close')\n",
    "    cols.remove('high')\n",
    "    cols.remove('low')\n",
    "    cols.remove('times')\n",
    "    cols.remove('date')\n",
    "    cols.remove('index')\n",
    "    cols.remove('volume')\n",
    "    cols.remove('mid')\n",
    "    return cols"
   ]
  },
  {
   "cell_type": "code",
   "execution_count": 16,
   "metadata": {},
   "outputs": [],
   "source": [
    "# Get trend data\n",
    "df_trends = getTrendDataDF(kw_list)"
   ]
  },
  {
   "cell_type": "code",
   "execution_count": 17,
   "metadata": {},
   "outputs": [],
   "source": [
    "# Get stock data\n",
    "dict_stocks = getHourlyStockInfoDict(company_symbol)"
   ]
  },
  {
   "cell_type": "code",
   "execution_count": null,
   "metadata": {},
   "outputs": [],
   "source": []
  },
  {
   "cell_type": "code",
   "execution_count": null,
   "metadata": {},
   "outputs": [],
   "source": []
  },
  {
   "cell_type": "code",
   "execution_count": null,
   "metadata": {},
   "outputs": [],
   "source": []
  },
  {
   "cell_type": "code",
   "execution_count": null,
   "metadata": {},
   "outputs": [],
   "source": []
  },
  {
   "cell_type": "code",
   "execution_count": null,
   "metadata": {},
   "outputs": [],
   "source": []
  },
  {
   "cell_type": "code",
   "execution_count": null,
   "metadata": {},
   "outputs": [],
   "source": []
  },
  {
   "cell_type": "code",
   "execution_count": null,
   "metadata": {},
   "outputs": [],
   "source": []
  },
  {
   "cell_type": "code",
   "execution_count": null,
   "metadata": {},
   "outputs": [],
   "source": []
  },
  {
   "cell_type": "code",
   "execution_count": null,
   "metadata": {},
   "outputs": [],
   "source": []
  },
  {
   "cell_type": "code",
   "execution_count": null,
   "metadata": {},
   "outputs": [],
   "source": []
  },
  {
   "cell_type": "code",
   "execution_count": null,
   "metadata": {},
   "outputs": [],
   "source": []
  },
  {
   "cell_type": "code",
   "execution_count": null,
   "metadata": {},
   "outputs": [],
   "source": []
  },
  {
   "cell_type": "code",
   "execution_count": null,
   "metadata": {},
   "outputs": [],
   "source": []
  },
  {
   "cell_type": "code",
   "execution_count": null,
   "metadata": {},
   "outputs": [],
   "source": []
  },
  {
   "cell_type": "code",
   "execution_count": null,
   "metadata": {},
   "outputs": [],
   "source": []
  },
  {
   "cell_type": "code",
   "execution_count": null,
   "metadata": {},
   "outputs": [],
   "source": []
  },
  {
   "cell_type": "code",
   "execution_count": null,
   "metadata": {},
   "outputs": [],
   "source": []
  },
  {
   "cell_type": "code",
   "execution_count": null,
   "metadata": {},
   "outputs": [],
   "source": []
  },
  {
   "cell_type": "markdown",
   "metadata": {},
   "source": [
    "# Lasso Regression with Hourly Data"
   ]
  },
  {
   "cell_type": "code",
   "execution_count": 18,
   "metadata": {},
   "outputs": [],
   "source": [
    "# Imports\n",
    "import requests\n",
    "import json\n",
    "import time\n",
    "import numpy as np\n",
    "import pandas as pd\n",
    "import matplotlib.pyplot as plt\n",
    "from sklearn.metrics import mean_squared_error\n",
    "import statsmodels.api as sm\n",
    "from scipy import linalg\n",
    "from sklearn import linear_model\n",
    "from sklearn.linear_model import Ridge\n",
    "from pytrends.request import TrendReq\n",
    "import os.path\n"
   ]
  },
  {
   "cell_type": "markdown",
   "metadata": {},
   "source": [
    "**Helper Functions**"
   ]
  },
  {
   "cell_type": "code",
   "execution_count": 19,
   "metadata": {},
   "outputs": [],
   "source": [
    "def save_dict_df(dictex, keys_filename=\"keys.txt\", data_folder=\"hourly_stock_data\"):\n",
    "    for key, val in dictex.items():\n",
    "        val.to_csv(\"./\"+data_folder+\"/data_{}.csv\".format(str(key)))\n",
    "\n",
    "    with open(keys_filename, \"w\") as f: #saving keys to file\n",
    "        f.write(str(list(dictex.keys())))\n",
    "\n",
    "def load_dict_df(keys_filename=\"keys.txt\", data_folder=\"hourly_stock_data\"):\n",
    "    \"\"\"Reading data from keys\"\"\"\n",
    "    with open(keys_filename, \"r\") as f:\n",
    "        keys = eval(f.read())\n",
    "\n",
    "    dictex = {}    \n",
    "    for key in keys:\n",
    "        dictex[key] = pd.read_csv(\"./\"+data_folder+\"/data_{}.csv\".format(str(key)), index_col=0)\n",
    "\n",
    "    return dictex"
   ]
  },
  {
   "cell_type": "code",
   "execution_count": 20,
   "metadata": {},
   "outputs": [],
   "source": [
    "def getTrends(company_name, df_trends):\n",
    "    # Filters the trends\n",
    "    company_keywords =  [x for x in list(df_trends.columns.values) if company_name in x]\n",
    "    return df_trends[company_keywords].copy()\n",
    "    "
   ]
  },
  {
   "cell_type": "code",
   "execution_count": 21,
   "metadata": {},
   "outputs": [],
   "source": [
    "def getJointTimes(df_stock, df_trends): \n",
    "    stock_times = df_stock['times']\n",
    "    trends_times = list(df_trends.index)\n",
    "    return list(set(stock_times) & set(trends_times)) "
   ]
  },
  {
   "cell_type": "code",
   "execution_count": 22,
   "metadata": {},
   "outputs": [],
   "source": [
    "# Define Company Keyterms and Symbols\n",
    "companies = ['tesla', 'facebook', 'microsoft', 'amazon', 'google', 'uber', 'lyft','apple','snap']\n",
    "key_terms = ['report', 'good', 'bad', 'up', 'down', 'stock']\n",
    "company_symbol = ['TSLA', 'FB', 'MSFT', 'AMZN', 'GOOGL', 'UBER', 'LYFT','AAPL','SNAP']"
   ]
  },
  {
   "cell_type": "code",
   "execution_count": 23,
   "metadata": {},
   "outputs": [],
   "source": [
    "#Create Key Word List\n",
    "kw_list = []\n",
    "for c_name in companies:\n",
    "    for k in key_terms:\n",
    "        kw_list.append(c_name + \" \" + k)"
   ]
  },
  {
   "cell_type": "markdown",
   "metadata": {},
   "source": [
    "**Gather Google trends data**"
   ]
  },
  {
   "cell_type": "code",
   "execution_count": 43,
   "metadata": {
    "scrolled": true
   },
   "outputs": [],
   "source": [
    "# Get Hourly trends data from pytrends\n",
    "# If there is a server 500 error, try changing the dates to this past week! \n",
    "def getHourlyTrends(company_symbol, pull_data=False, trends_df_filename=\"hourly_pytrends.csv\"):\n",
    "    if not pull_data and os.path.isfile(trends_df_filename):\n",
    "        trends_df = pd.read_csv(trends_df_filename, index_col=\"date\")\n",
    "    else :\n",
    "        df = pd.DataFrame()\n",
    "        data = {}\n",
    "        pytrends = TrendReq(hl='en-US', tz=360)\n",
    "        for kw in kw_list:\n",
    "            print(kw)\n",
    "            df_temp = pytrends.get_historical_interest([kw], year_start=2019, month_start=11, day_start=27, hour_start=0, year_end=2019, month_end=12, day_end=3, hour_end=23, sleep=30)\n",
    "            if 'isPartial' in df_temp.columns: \n",
    "                df_temp = df_temp.drop(['isPartial'], axis=1)\n",
    "            data[kw] = df_temp\n",
    "        for kw in kw_list:\n",
    "            if df.empty:\n",
    "                df = data[kw]\n",
    "            else:\n",
    "                df = df.join(data[kw])\n",
    "                \n",
    "        print(\"finished kw forloop\")\n",
    "        trends_df = df\n",
    "        df.to_csv(trends_df_filename)\n",
    "    return trends_df\n",
    "        "
   ]
  },
  {
   "cell_type": "code",
   "execution_count": 44,
   "metadata": {
    "scrolled": true
   },
   "outputs": [
    {
     "name": "stdout",
     "output_type": "stream",
     "text": [
      "tesla report\n",
      "tesla good\n",
      "tesla bad\n",
      "tesla up\n",
      "tesla down\n",
      "tesla stock\n",
      "facebook report\n",
      "facebook good\n",
      "facebook bad\n",
      "facebook up\n",
      "facebook down\n",
      "facebook stock\n",
      "microsoft report\n",
      "microsoft good\n",
      "microsoft bad\n",
      "microsoft up\n",
      "microsoft down\n",
      "microsoft stock\n",
      "amazon report\n",
      "amazon good\n",
      "amazon bad\n",
      "amazon up\n",
      "amazon down\n",
      "amazon stock\n",
      "google report\n",
      "google good\n",
      "google bad\n",
      "google up\n",
      "google down\n",
      "google stock\n",
      "uber report\n",
      "uber good\n",
      "uber bad\n",
      "uber up\n",
      "uber down\n",
      "uber stock\n",
      "lyft report\n",
      "lyft good\n",
      "lyft bad\n",
      "lyft up\n",
      "lyft down\n",
      "lyft stock\n",
      "apple report\n",
      "apple good\n",
      "apple bad\n",
      "apple up\n",
      "apple down\n",
      "apple stock\n",
      "The request failed: Google returned a response with code 429.\n",
      "snap report\n",
      "The request failed: Google returned a response with code 429.\n",
      "The request failed: Google returned a response with code 429.\n",
      "snap good\n",
      "The request failed: Google returned a response with code 429.\n",
      "The request failed: Google returned a response with code 429.\n",
      "snap bad\n",
      "The request failed: Google returned a response with code 429.\n",
      "The request failed: Google returned a response with code 429.\n",
      "snap up\n",
      "The request failed: Google returned a response with code 429.\n",
      "The request failed: Google returned a response with code 429.\n",
      "snap down\n",
      "The request failed: Google returned a response with code 429.\n",
      "The request failed: Google returned a response with code 429.\n",
      "snap stock\n",
      "The request failed: Google returned a response with code 429.\n",
      "The request failed: Google returned a response with code 429.\n",
      "finished kw forloop\n"
     ]
    }
   ],
   "source": [
    "df_trends = getHourlyTrends(company_symbol,True)"
   ]
  },
  {
   "cell_type": "code",
   "execution_count": 45,
   "metadata": {},
   "outputs": [
    {
     "data": {
      "text/html": [
       "<div>\n",
       "<style scoped>\n",
       "    .dataframe tbody tr th:only-of-type {\n",
       "        vertical-align: middle;\n",
       "    }\n",
       "\n",
       "    .dataframe tbody tr th {\n",
       "        vertical-align: top;\n",
       "    }\n",
       "\n",
       "    .dataframe thead th {\n",
       "        text-align: right;\n",
       "    }\n",
       "</style>\n",
       "<table border=\"1\" class=\"dataframe\">\n",
       "  <thead>\n",
       "    <tr style=\"text-align: right;\">\n",
       "      <th></th>\n",
       "      <th>tesla report</th>\n",
       "      <th>tesla good</th>\n",
       "      <th>tesla bad</th>\n",
       "      <th>tesla up</th>\n",
       "      <th>tesla down</th>\n",
       "      <th>tesla stock</th>\n",
       "      <th>facebook report</th>\n",
       "      <th>facebook good</th>\n",
       "      <th>facebook bad</th>\n",
       "      <th>facebook up</th>\n",
       "      <th>...</th>\n",
       "      <th>lyft bad</th>\n",
       "      <th>lyft up</th>\n",
       "      <th>lyft down</th>\n",
       "      <th>lyft stock</th>\n",
       "      <th>apple report</th>\n",
       "      <th>apple good</th>\n",
       "      <th>apple bad</th>\n",
       "      <th>apple up</th>\n",
       "      <th>apple down</th>\n",
       "      <th>apple stock</th>\n",
       "    </tr>\n",
       "    <tr>\n",
       "      <th>date</th>\n",
       "      <th></th>\n",
       "      <th></th>\n",
       "      <th></th>\n",
       "      <th></th>\n",
       "      <th></th>\n",
       "      <th></th>\n",
       "      <th></th>\n",
       "      <th></th>\n",
       "      <th></th>\n",
       "      <th></th>\n",
       "      <th></th>\n",
       "      <th></th>\n",
       "      <th></th>\n",
       "      <th></th>\n",
       "      <th></th>\n",
       "      <th></th>\n",
       "      <th></th>\n",
       "      <th></th>\n",
       "      <th></th>\n",
       "      <th></th>\n",
       "      <th></th>\n",
       "    </tr>\n",
       "  </thead>\n",
       "  <tbody>\n",
       "    <tr>\n",
       "      <th>2019-11-27 00:00:00</th>\n",
       "      <td>94</td>\n",
       "      <td>91</td>\n",
       "      <td>94</td>\n",
       "      <td>100</td>\n",
       "      <td>100</td>\n",
       "      <td>85</td>\n",
       "      <td>96</td>\n",
       "      <td>81</td>\n",
       "      <td>75</td>\n",
       "      <td>74</td>\n",
       "      <td>...</td>\n",
       "      <td>15</td>\n",
       "      <td>69</td>\n",
       "      <td>26</td>\n",
       "      <td>77</td>\n",
       "      <td>82</td>\n",
       "      <td>82</td>\n",
       "      <td>81</td>\n",
       "      <td>71</td>\n",
       "      <td>35</td>\n",
       "      <td>60</td>\n",
       "    </tr>\n",
       "    <tr>\n",
       "      <th>2019-11-27 01:00:00</th>\n",
       "      <td>100</td>\n",
       "      <td>86</td>\n",
       "      <td>77</td>\n",
       "      <td>87</td>\n",
       "      <td>76</td>\n",
       "      <td>80</td>\n",
       "      <td>93</td>\n",
       "      <td>84</td>\n",
       "      <td>71</td>\n",
       "      <td>75</td>\n",
       "      <td>...</td>\n",
       "      <td>76</td>\n",
       "      <td>46</td>\n",
       "      <td>64</td>\n",
       "      <td>66</td>\n",
       "      <td>64</td>\n",
       "      <td>80</td>\n",
       "      <td>82</td>\n",
       "      <td>71</td>\n",
       "      <td>31</td>\n",
       "      <td>56</td>\n",
       "    </tr>\n",
       "    <tr>\n",
       "      <th>2019-11-27 02:00:00</th>\n",
       "      <td>84</td>\n",
       "      <td>90</td>\n",
       "      <td>72</td>\n",
       "      <td>71</td>\n",
       "      <td>58</td>\n",
       "      <td>73</td>\n",
       "      <td>85</td>\n",
       "      <td>98</td>\n",
       "      <td>70</td>\n",
       "      <td>86</td>\n",
       "      <td>...</td>\n",
       "      <td>31</td>\n",
       "      <td>48</td>\n",
       "      <td>39</td>\n",
       "      <td>46</td>\n",
       "      <td>61</td>\n",
       "      <td>81</td>\n",
       "      <td>88</td>\n",
       "      <td>72</td>\n",
       "      <td>34</td>\n",
       "      <td>48</td>\n",
       "    </tr>\n",
       "    <tr>\n",
       "      <th>2019-11-27 03:00:00</th>\n",
       "      <td>70</td>\n",
       "      <td>100</td>\n",
       "      <td>92</td>\n",
       "      <td>68</td>\n",
       "      <td>83</td>\n",
       "      <td>74</td>\n",
       "      <td>93</td>\n",
       "      <td>95</td>\n",
       "      <td>60</td>\n",
       "      <td>86</td>\n",
       "      <td>...</td>\n",
       "      <td>48</td>\n",
       "      <td>62</td>\n",
       "      <td>27</td>\n",
       "      <td>60</td>\n",
       "      <td>53</td>\n",
       "      <td>77</td>\n",
       "      <td>84</td>\n",
       "      <td>66</td>\n",
       "      <td>32</td>\n",
       "      <td>46</td>\n",
       "    </tr>\n",
       "    <tr>\n",
       "      <th>2019-11-27 04:00:00</th>\n",
       "      <td>65</td>\n",
       "      <td>57</td>\n",
       "      <td>82</td>\n",
       "      <td>60</td>\n",
       "      <td>55</td>\n",
       "      <td>64</td>\n",
       "      <td>89</td>\n",
       "      <td>79</td>\n",
       "      <td>67</td>\n",
       "      <td>84</td>\n",
       "      <td>...</td>\n",
       "      <td>83</td>\n",
       "      <td>39</td>\n",
       "      <td>42</td>\n",
       "      <td>58</td>\n",
       "      <td>53</td>\n",
       "      <td>75</td>\n",
       "      <td>72</td>\n",
       "      <td>55</td>\n",
       "      <td>27</td>\n",
       "      <td>40</td>\n",
       "    </tr>\n",
       "  </tbody>\n",
       "</table>\n",
       "<p>5 rows × 48 columns</p>\n",
       "</div>"
      ],
      "text/plain": [
       "                     tesla report  tesla good  tesla bad  tesla up  \\\n",
       "date                                                                 \n",
       "2019-11-27 00:00:00            94          91         94       100   \n",
       "2019-11-27 01:00:00           100          86         77        87   \n",
       "2019-11-27 02:00:00            84          90         72        71   \n",
       "2019-11-27 03:00:00            70         100         92        68   \n",
       "2019-11-27 04:00:00            65          57         82        60   \n",
       "\n",
       "                     tesla down  tesla stock  facebook report  facebook good  \\\n",
       "date                                                                           \n",
       "2019-11-27 00:00:00         100           85               96             81   \n",
       "2019-11-27 01:00:00          76           80               93             84   \n",
       "2019-11-27 02:00:00          58           73               85             98   \n",
       "2019-11-27 03:00:00          83           74               93             95   \n",
       "2019-11-27 04:00:00          55           64               89             79   \n",
       "\n",
       "                     facebook bad  facebook up  ...  lyft bad  lyft up  \\\n",
       "date                                            ...                      \n",
       "2019-11-27 00:00:00            75           74  ...        15       69   \n",
       "2019-11-27 01:00:00            71           75  ...        76       46   \n",
       "2019-11-27 02:00:00            70           86  ...        31       48   \n",
       "2019-11-27 03:00:00            60           86  ...        48       62   \n",
       "2019-11-27 04:00:00            67           84  ...        83       39   \n",
       "\n",
       "                     lyft down  lyft stock  apple report  apple good  \\\n",
       "date                                                                   \n",
       "2019-11-27 00:00:00         26          77            82          82   \n",
       "2019-11-27 01:00:00         64          66            64          80   \n",
       "2019-11-27 02:00:00         39          46            61          81   \n",
       "2019-11-27 03:00:00         27          60            53          77   \n",
       "2019-11-27 04:00:00         42          58            53          75   \n",
       "\n",
       "                     apple bad  apple up  apple down  apple stock  \n",
       "date                                                               \n",
       "2019-11-27 00:00:00         81        71          35           60  \n",
       "2019-11-27 01:00:00         82        71          31           56  \n",
       "2019-11-27 02:00:00         88        72          34           48  \n",
       "2019-11-27 03:00:00         84        66          32           46  \n",
       "2019-11-27 04:00:00         72        55          27           40  \n",
       "\n",
       "[5 rows x 48 columns]"
      ]
     },
     "execution_count": 45,
     "metadata": {},
     "output_type": "execute_result"
    }
   ],
   "source": [
    "# Inspect Data\n",
    "df_trends.head()"
   ]
  },
  {
   "cell_type": "markdown",
   "metadata": {},
   "source": [
    "**Gather Stock Data: Alpha Vantage**"
   ]
  },
  {
   "cell_type": "code",
   "execution_count": 27,
   "metadata": {},
   "outputs": [],
   "source": [
    "# Get Stock Hourly info for past 7 days\n",
    "def getHourlyStockInfoDict(company_symbol, pull_data=False, stock_df_filename=\"stock_keys.txt\"):\n",
    "    if not pull_data and os.path.isfile(stock_df_filename):\n",
    "        dict_stocks = load_dict_df(keys_filename=stock_df_filename);\n",
    "    else :\n",
    "        ts = 'TIME_SERIES_INTRADAY'\n",
    "        api_key = ''\n",
    "        interval = '30min'\n",
    "        outputsize = 'full'\n",
    "        dict_stocks = {}\n",
    "        for i, symbol in enumerate(company_symbol):\n",
    "            print(symbol)\n",
    "            link = 'https://www.alphavantage.co/query?function={}&symbol={}&interval={}&apikey={}&outputsize={}'\\\n",
    "                .format(ts, symbol, interval, api_key, outputsize)\n",
    "            request = requests.get(link)\n",
    "            data = json.loads(request.text)\n",
    "            # API only give you 5 requests per 5 mins, so break out if response is not what is expected.\n",
    "            while \"Time Series (30min)\" not in data:\n",
    "                print('...sleeping...')\n",
    "                time.sleep(70)\n",
    "                link = 'https://www.alphavantage.co/query?function={}&symbol={}&interval={}&apikey={}&outputsize={}'\\\n",
    "                    .format(ts, symbol, interval, api_key, outputsize)\n",
    "                request = requests.get(link)\n",
    "                data = json.loads(request.text)\n",
    "            stock_data_per_hour = json.dumps(data[\"Time Series (30min)\"])\n",
    "            df_temp = pd.read_json(stock_data_per_hour).transpose()\n",
    "            df_temp.reset_index(level=0, inplace=True)\n",
    "            df_temp.columns = ['times', 'open', 'high', 'low', 'close', 'volume']\n",
    "            dict_stocks[companies[i]] = df_temp\n",
    "        save_dict_df(dict_stocks, keys_filename=stock_df_filename)\n",
    "    return dict_stocks"
   ]
  },
  {
   "cell_type": "code",
   "execution_count": 28,
   "metadata": {
    "scrolled": false
   },
   "outputs": [
    {
     "name": "stdout",
     "output_type": "stream",
     "text": [
      "TSLA\n",
      "FB\n",
      "MSFT\n",
      "AMZN\n",
      "GOOGL\n",
      "UBER\n",
      "...sleeping...\n",
      "LYFT\n",
      "AAPL\n",
      "SNAP\n"
     ]
    }
   ],
   "source": [
    "df_stocks = getHourlyStockInfoDict(company_symbol,True)"
   ]
  },
  {
   "cell_type": "code",
   "execution_count": 29,
   "metadata": {},
   "outputs": [],
   "source": [
    "# Gather stock data for each individual company\n",
    "#df_stocks = {}\n",
    "#for s in company_symbol:\n",
    "#    print(s)\n",
    "#    res = getIntraday1minDF(s)\n",
    "    # data limit reached\n",
    "#    while res.empty:\n",
    "#        time.sleep(10)\n",
    "#        res = getIntraday1minDF(s)\n",
    "    # add stock information to dictionary\n",
    "#    df_stocks[s] = res"
   ]
  },
  {
   "cell_type": "code",
   "execution_count": 30,
   "metadata": {},
   "outputs": [
    {
     "data": {
      "text/html": [
       "<div>\n",
       "<style scoped>\n",
       "    .dataframe tbody tr th:only-of-type {\n",
       "        vertical-align: middle;\n",
       "    }\n",
       "\n",
       "    .dataframe tbody tr th {\n",
       "        vertical-align: top;\n",
       "    }\n",
       "\n",
       "    .dataframe thead th {\n",
       "        text-align: right;\n",
       "    }\n",
       "</style>\n",
       "<table border=\"1\" class=\"dataframe\">\n",
       "  <thead>\n",
       "    <tr style=\"text-align: right;\">\n",
       "      <th></th>\n",
       "      <th>times</th>\n",
       "      <th>open</th>\n",
       "      <th>high</th>\n",
       "      <th>low</th>\n",
       "      <th>close</th>\n",
       "      <th>volume</th>\n",
       "    </tr>\n",
       "  </thead>\n",
       "  <tbody>\n",
       "    <tr>\n",
       "      <th>372</th>\n",
       "      <td>2019-10-24 12:00:00</td>\n",
       "      <td>293.6600</td>\n",
       "      <td>298.2900</td>\n",
       "      <td>292.7000</td>\n",
       "      <td>297.5200</td>\n",
       "      <td>1643473.0</td>\n",
       "    </tr>\n",
       "    <tr>\n",
       "      <th>373</th>\n",
       "      <td>2019-10-24 11:30:00</td>\n",
       "      <td>295.2156</td>\n",
       "      <td>295.7645</td>\n",
       "      <td>292.8218</td>\n",
       "      <td>293.7024</td>\n",
       "      <td>1241653.0</td>\n",
       "    </tr>\n",
       "    <tr>\n",
       "      <th>374</th>\n",
       "      <td>2019-10-24 11:00:00</td>\n",
       "      <td>292.7300</td>\n",
       "      <td>296.0200</td>\n",
       "      <td>289.2200</td>\n",
       "      <td>295.1500</td>\n",
       "      <td>2866779.0</td>\n",
       "    </tr>\n",
       "    <tr>\n",
       "      <th>375</th>\n",
       "      <td>2019-10-24 10:30:00</td>\n",
       "      <td>297.4161</td>\n",
       "      <td>299.7806</td>\n",
       "      <td>292.3937</td>\n",
       "      <td>292.8809</td>\n",
       "      <td>3240948.0</td>\n",
       "    </tr>\n",
       "    <tr>\n",
       "      <th>376</th>\n",
       "      <td>2019-10-24 10:00:00</td>\n",
       "      <td>298.3700</td>\n",
       "      <td>304.9500</td>\n",
       "      <td>294.0200</td>\n",
       "      <td>297.4500</td>\n",
       "      <td>11841310.0</td>\n",
       "    </tr>\n",
       "  </tbody>\n",
       "</table>\n",
       "</div>"
      ],
      "text/plain": [
       "                  times      open      high       low     close      volume\n",
       "372 2019-10-24 12:00:00  293.6600  298.2900  292.7000  297.5200   1643473.0\n",
       "373 2019-10-24 11:30:00  295.2156  295.7645  292.8218  293.7024   1241653.0\n",
       "374 2019-10-24 11:00:00  292.7300  296.0200  289.2200  295.1500   2866779.0\n",
       "375 2019-10-24 10:30:00  297.4161  299.7806  292.3937  292.8809   3240948.0\n",
       "376 2019-10-24 10:00:00  298.3700  304.9500  294.0200  297.4500  11841310.0"
      ]
     },
     "execution_count": 30,
     "metadata": {},
     "output_type": "execute_result"
    }
   ],
   "source": [
    "# Preview Stock Data\n",
    "df_stocks['tesla'].tail()"
   ]
  },
  {
   "cell_type": "code",
   "execution_count": 31,
   "metadata": {},
   "outputs": [
    {
     "data": {
      "text/html": [
       "<div>\n",
       "<style scoped>\n",
       "    .dataframe tbody tr th:only-of-type {\n",
       "        vertical-align: middle;\n",
       "    }\n",
       "\n",
       "    .dataframe tbody tr th {\n",
       "        vertical-align: top;\n",
       "    }\n",
       "\n",
       "    .dataframe thead th {\n",
       "        text-align: right;\n",
       "    }\n",
       "</style>\n",
       "<table border=\"1\" class=\"dataframe\">\n",
       "  <thead>\n",
       "    <tr style=\"text-align: right;\">\n",
       "      <th></th>\n",
       "      <th>tesla report</th>\n",
       "      <th>tesla good</th>\n",
       "      <th>tesla bad</th>\n",
       "      <th>tesla up</th>\n",
       "      <th>tesla down</th>\n",
       "      <th>tesla stock</th>\n",
       "      <th>facebook report</th>\n",
       "      <th>facebook good</th>\n",
       "      <th>facebook bad</th>\n",
       "      <th>facebook up</th>\n",
       "      <th>...</th>\n",
       "      <th>uber stock</th>\n",
       "      <th>lyft report</th>\n",
       "      <th>lyft good</th>\n",
       "      <th>lyft bad</th>\n",
       "      <th>lyft up</th>\n",
       "      <th>lyft down</th>\n",
       "      <th>lyft stock</th>\n",
       "      <th>apple report</th>\n",
       "      <th>apple good</th>\n",
       "      <th>apple bad</th>\n",
       "    </tr>\n",
       "    <tr>\n",
       "      <th>date</th>\n",
       "      <th></th>\n",
       "      <th></th>\n",
       "      <th></th>\n",
       "      <th></th>\n",
       "      <th></th>\n",
       "      <th></th>\n",
       "      <th></th>\n",
       "      <th></th>\n",
       "      <th></th>\n",
       "      <th></th>\n",
       "      <th></th>\n",
       "      <th></th>\n",
       "      <th></th>\n",
       "      <th></th>\n",
       "      <th></th>\n",
       "      <th></th>\n",
       "      <th></th>\n",
       "      <th></th>\n",
       "      <th></th>\n",
       "      <th></th>\n",
       "      <th></th>\n",
       "    </tr>\n",
       "  </thead>\n",
       "  <tbody>\n",
       "    <tr>\n",
       "      <th>2019-12-03 23:00:00</th>\n",
       "      <td>66</td>\n",
       "      <td>47</td>\n",
       "      <td>45</td>\n",
       "      <td>26</td>\n",
       "      <td>47</td>\n",
       "      <td>61</td>\n",
       "      <td>93</td>\n",
       "      <td>87</td>\n",
       "      <td>92</td>\n",
       "      <td>67</td>\n",
       "      <td>...</td>\n",
       "      <td>56</td>\n",
       "      <td>63</td>\n",
       "      <td>74</td>\n",
       "      <td>76</td>\n",
       "      <td>63</td>\n",
       "      <td>25</td>\n",
       "      <td>64</td>\n",
       "      <td>78</td>\n",
       "      <td>69</td>\n",
       "      <td>83</td>\n",
       "    </tr>\n",
       "    <tr>\n",
       "      <th>2019-12-03 22:00:00</th>\n",
       "      <td>71</td>\n",
       "      <td>63</td>\n",
       "      <td>52</td>\n",
       "      <td>28</td>\n",
       "      <td>52</td>\n",
       "      <td>71</td>\n",
       "      <td>99</td>\n",
       "      <td>80</td>\n",
       "      <td>94</td>\n",
       "      <td>63</td>\n",
       "      <td>...</td>\n",
       "      <td>74</td>\n",
       "      <td>46</td>\n",
       "      <td>49</td>\n",
       "      <td>27</td>\n",
       "      <td>79</td>\n",
       "      <td>45</td>\n",
       "      <td>63</td>\n",
       "      <td>79</td>\n",
       "      <td>58</td>\n",
       "      <td>84</td>\n",
       "    </tr>\n",
       "    <tr>\n",
       "      <th>2019-12-03 21:00:00</th>\n",
       "      <td>60</td>\n",
       "      <td>64</td>\n",
       "      <td>40</td>\n",
       "      <td>37</td>\n",
       "      <td>36</td>\n",
       "      <td>76</td>\n",
       "      <td>90</td>\n",
       "      <td>79</td>\n",
       "      <td>91</td>\n",
       "      <td>67</td>\n",
       "      <td>...</td>\n",
       "      <td>80</td>\n",
       "      <td>65</td>\n",
       "      <td>43</td>\n",
       "      <td>47</td>\n",
       "      <td>54</td>\n",
       "      <td>69</td>\n",
       "      <td>72</td>\n",
       "      <td>82</td>\n",
       "      <td>51</td>\n",
       "      <td>71</td>\n",
       "    </tr>\n",
       "    <tr>\n",
       "      <th>2019-12-03 20:00:00</th>\n",
       "      <td>59</td>\n",
       "      <td>59</td>\n",
       "      <td>41</td>\n",
       "      <td>34</td>\n",
       "      <td>37</td>\n",
       "      <td>73</td>\n",
       "      <td>84</td>\n",
       "      <td>72</td>\n",
       "      <td>100</td>\n",
       "      <td>62</td>\n",
       "      <td>...</td>\n",
       "      <td>78</td>\n",
       "      <td>37</td>\n",
       "      <td>51</td>\n",
       "      <td>42</td>\n",
       "      <td>66</td>\n",
       "      <td>27</td>\n",
       "      <td>72</td>\n",
       "      <td>63</td>\n",
       "      <td>48</td>\n",
       "      <td>71</td>\n",
       "    </tr>\n",
       "    <tr>\n",
       "      <th>2019-12-03 19:00:00</th>\n",
       "      <td>71</td>\n",
       "      <td>50</td>\n",
       "      <td>43</td>\n",
       "      <td>31</td>\n",
       "      <td>35</td>\n",
       "      <td>69</td>\n",
       "      <td>83</td>\n",
       "      <td>67</td>\n",
       "      <td>87</td>\n",
       "      <td>63</td>\n",
       "      <td>...</td>\n",
       "      <td>76</td>\n",
       "      <td>28</td>\n",
       "      <td>31</td>\n",
       "      <td>60</td>\n",
       "      <td>49</td>\n",
       "      <td>25</td>\n",
       "      <td>71</td>\n",
       "      <td>72</td>\n",
       "      <td>46</td>\n",
       "      <td>64</td>\n",
       "    </tr>\n",
       "  </tbody>\n",
       "</table>\n",
       "<p>5 rows × 45 columns</p>\n",
       "</div>"
      ],
      "text/plain": [
       "                     tesla report  tesla good  tesla bad  tesla up  \\\n",
       "date                                                                 \n",
       "2019-12-03 23:00:00            66          47         45        26   \n",
       "2019-12-03 22:00:00            71          63         52        28   \n",
       "2019-12-03 21:00:00            60          64         40        37   \n",
       "2019-12-03 20:00:00            59          59         41        34   \n",
       "2019-12-03 19:00:00            71          50         43        31   \n",
       "\n",
       "                     tesla down  tesla stock  facebook report  facebook good  \\\n",
       "date                                                                           \n",
       "2019-12-03 23:00:00          47           61               93             87   \n",
       "2019-12-03 22:00:00          52           71               99             80   \n",
       "2019-12-03 21:00:00          36           76               90             79   \n",
       "2019-12-03 20:00:00          37           73               84             72   \n",
       "2019-12-03 19:00:00          35           69               83             67   \n",
       "\n",
       "                     facebook bad  facebook up  ...  uber stock  lyft report  \\\n",
       "date                                            ...                            \n",
       "2019-12-03 23:00:00            92           67  ...          56           63   \n",
       "2019-12-03 22:00:00            94           63  ...          74           46   \n",
       "2019-12-03 21:00:00            91           67  ...          80           65   \n",
       "2019-12-03 20:00:00           100           62  ...          78           37   \n",
       "2019-12-03 19:00:00            87           63  ...          76           28   \n",
       "\n",
       "                     lyft good  lyft bad  lyft up  lyft down  lyft stock  \\\n",
       "date                                                                       \n",
       "2019-12-03 23:00:00         74        76       63         25          64   \n",
       "2019-12-03 22:00:00         49        27       79         45          63   \n",
       "2019-12-03 21:00:00         43        47       54         69          72   \n",
       "2019-12-03 20:00:00         51        42       66         27          72   \n",
       "2019-12-03 19:00:00         31        60       49         25          71   \n",
       "\n",
       "                     apple report  apple good  apple bad  \n",
       "date                                                      \n",
       "2019-12-03 23:00:00            78          69         83  \n",
       "2019-12-03 22:00:00            79          58         84  \n",
       "2019-12-03 21:00:00            82          51         71  \n",
       "2019-12-03 20:00:00            63          48         71  \n",
       "2019-12-03 19:00:00            72          46         64  \n",
       "\n",
       "[5 rows x 45 columns]"
      ]
     },
     "execution_count": 31,
     "metadata": {},
     "output_type": "execute_result"
    }
   ],
   "source": [
    "#reverse df rows\n",
    "df_trends = df_trends.iloc[::-1]\n",
    "df_trends.head()"
   ]
  },
  {
   "cell_type": "markdown",
   "metadata": {},
   "source": [
    "**Merge Trend and Stock Data**"
   ]
  },
  {
   "cell_type": "code",
   "execution_count": 32,
   "metadata": {
    "scrolled": true
   },
   "outputs": [
    {
     "name": "stdout",
     "output_type": "stream",
     "text": [
      "tesla\n",
      "[Timestamp('2019-12-03 15:00:00'), Timestamp('2019-12-03 16:00:00'), Timestamp('2019-12-02 14:00:00'), Timestamp('2019-12-02 11:00:00'), Timestamp('2019-11-29 12:00:00'), Timestamp('2019-12-03 13:00:00'), Timestamp('2019-11-29 10:00:00'), Timestamp('2019-11-27 14:00:00'), Timestamp('2019-12-02 12:00:00'), Timestamp('2019-12-02 10:00:00'), Timestamp('2019-12-03 10:00:00'), Timestamp('2019-12-03 14:00:00'), Timestamp('2019-12-03 11:00:00'), Timestamp('2019-11-29 11:00:00'), Timestamp('2019-11-27 12:00:00'), Timestamp('2019-11-27 13:00:00'), Timestamp('2019-11-29 13:00:00'), Timestamp('2019-11-27 11:00:00'), Timestamp('2019-12-02 13:00:00'), Timestamp('2019-11-27 15:00:00'), Timestamp('2019-12-02 15:00:00'), Timestamp('2019-12-03 12:00:00'), Timestamp('2019-11-27 10:00:00'), Timestamp('2019-12-02 16:00:00'), Timestamp('2019-11-27 16:00:00')]\n",
      "facebook\n",
      "[Timestamp('2019-12-03 15:00:00'), Timestamp('2019-12-03 16:00:00'), Timestamp('2019-12-02 14:00:00'), Timestamp('2019-12-02 11:00:00'), Timestamp('2019-11-29 12:00:00'), Timestamp('2019-12-03 13:00:00'), Timestamp('2019-11-29 10:00:00'), Timestamp('2019-11-27 14:00:00'), Timestamp('2019-12-02 12:00:00'), Timestamp('2019-12-02 10:00:00'), Timestamp('2019-12-03 10:00:00'), Timestamp('2019-12-03 14:00:00'), Timestamp('2019-12-03 11:00:00'), Timestamp('2019-11-29 11:00:00'), Timestamp('2019-11-27 12:00:00'), Timestamp('2019-11-27 13:00:00'), Timestamp('2019-11-29 13:00:00'), Timestamp('2019-11-27 11:00:00'), Timestamp('2019-12-02 13:00:00'), Timestamp('2019-11-27 15:00:00'), Timestamp('2019-12-02 15:00:00'), Timestamp('2019-12-03 12:00:00'), Timestamp('2019-11-27 10:00:00'), Timestamp('2019-12-02 16:00:00'), Timestamp('2019-11-27 16:00:00')]\n",
      "microsoft\n",
      "[Timestamp('2019-12-03 15:00:00'), Timestamp('2019-12-03 16:00:00'), Timestamp('2019-12-02 14:00:00'), Timestamp('2019-12-02 11:00:00'), Timestamp('2019-11-29 12:00:00'), Timestamp('2019-12-03 13:00:00'), Timestamp('2019-11-29 10:00:00'), Timestamp('2019-11-27 14:00:00'), Timestamp('2019-12-02 12:00:00'), Timestamp('2019-12-02 10:00:00'), Timestamp('2019-12-03 10:00:00'), Timestamp('2019-12-03 14:00:00'), Timestamp('2019-12-03 11:00:00'), Timestamp('2019-11-29 11:00:00'), Timestamp('2019-11-27 12:00:00'), Timestamp('2019-11-27 13:00:00'), Timestamp('2019-11-29 13:00:00'), Timestamp('2019-11-27 11:00:00'), Timestamp('2019-12-02 13:00:00'), Timestamp('2019-11-27 15:00:00'), Timestamp('2019-12-02 15:00:00'), Timestamp('2019-12-03 12:00:00'), Timestamp('2019-11-27 10:00:00'), Timestamp('2019-12-02 16:00:00'), Timestamp('2019-11-27 16:00:00')]\n",
      "amazon\n",
      "[Timestamp('2019-12-03 15:00:00'), Timestamp('2019-12-03 16:00:00'), Timestamp('2019-12-02 14:00:00'), Timestamp('2019-12-02 11:00:00'), Timestamp('2019-11-29 12:00:00'), Timestamp('2019-12-03 13:00:00'), Timestamp('2019-11-29 10:00:00'), Timestamp('2019-11-27 14:00:00'), Timestamp('2019-12-02 12:00:00'), Timestamp('2019-12-02 10:00:00'), Timestamp('2019-12-03 10:00:00'), Timestamp('2019-12-03 14:00:00'), Timestamp('2019-12-03 11:00:00'), Timestamp('2019-11-29 11:00:00'), Timestamp('2019-11-27 12:00:00'), Timestamp('2019-11-27 13:00:00'), Timestamp('2019-11-29 13:00:00'), Timestamp('2019-11-27 11:00:00'), Timestamp('2019-12-02 13:00:00'), Timestamp('2019-11-27 15:00:00'), Timestamp('2019-12-02 15:00:00'), Timestamp('2019-12-03 12:00:00'), Timestamp('2019-11-27 10:00:00'), Timestamp('2019-12-02 16:00:00'), Timestamp('2019-11-27 16:00:00')]\n",
      "google\n",
      "[Timestamp('2019-12-03 15:00:00'), Timestamp('2019-12-03 16:00:00'), Timestamp('2019-12-02 14:00:00'), Timestamp('2019-12-02 11:00:00'), Timestamp('2019-11-29 12:00:00'), Timestamp('2019-12-03 13:00:00'), Timestamp('2019-11-29 10:00:00'), Timestamp('2019-11-27 14:00:00'), Timestamp('2019-12-02 12:00:00'), Timestamp('2019-12-02 10:00:00'), Timestamp('2019-12-03 10:00:00'), Timestamp('2019-12-03 14:00:00'), Timestamp('2019-12-03 11:00:00'), Timestamp('2019-11-29 11:00:00'), Timestamp('2019-11-27 12:00:00'), Timestamp('2019-11-27 13:00:00'), Timestamp('2019-11-29 13:00:00'), Timestamp('2019-11-27 11:00:00'), Timestamp('2019-12-02 13:00:00'), Timestamp('2019-11-27 15:00:00'), Timestamp('2019-12-02 15:00:00'), Timestamp('2019-12-03 12:00:00'), Timestamp('2019-11-27 10:00:00'), Timestamp('2019-12-02 16:00:00'), Timestamp('2019-11-27 16:00:00')]\n",
      "uber\n",
      "[Timestamp('2019-12-03 15:00:00'), Timestamp('2019-12-03 16:00:00'), Timestamp('2019-12-02 14:00:00'), Timestamp('2019-12-02 11:00:00'), Timestamp('2019-11-29 12:00:00'), Timestamp('2019-12-03 13:00:00'), Timestamp('2019-11-29 10:00:00'), Timestamp('2019-11-27 14:00:00'), Timestamp('2019-12-02 12:00:00'), Timestamp('2019-12-02 10:00:00'), Timestamp('2019-12-03 10:00:00'), Timestamp('2019-12-03 14:00:00'), Timestamp('2019-12-03 11:00:00'), Timestamp('2019-11-29 11:00:00'), Timestamp('2019-11-27 12:00:00'), Timestamp('2019-11-27 13:00:00'), Timestamp('2019-11-29 13:00:00'), Timestamp('2019-11-27 11:00:00'), Timestamp('2019-12-02 13:00:00'), Timestamp('2019-11-27 15:00:00'), Timestamp('2019-12-02 15:00:00'), Timestamp('2019-12-03 12:00:00'), Timestamp('2019-11-27 10:00:00'), Timestamp('2019-12-02 16:00:00'), Timestamp('2019-11-27 16:00:00')]\n",
      "lyft\n",
      "[Timestamp('2019-12-03 15:00:00'), Timestamp('2019-12-03 16:00:00'), Timestamp('2019-12-02 14:00:00'), Timestamp('2019-12-02 11:00:00'), Timestamp('2019-11-29 12:00:00'), Timestamp('2019-12-03 13:00:00'), Timestamp('2019-11-29 10:00:00'), Timestamp('2019-11-27 14:00:00'), Timestamp('2019-12-02 12:00:00'), Timestamp('2019-12-02 10:00:00'), Timestamp('2019-12-03 10:00:00'), Timestamp('2019-12-03 14:00:00'), Timestamp('2019-12-03 11:00:00'), Timestamp('2019-11-29 11:00:00'), Timestamp('2019-11-27 12:00:00'), Timestamp('2019-11-27 13:00:00'), Timestamp('2019-11-29 13:00:00'), Timestamp('2019-11-27 11:00:00'), Timestamp('2019-12-02 13:00:00'), Timestamp('2019-11-27 15:00:00'), Timestamp('2019-12-02 15:00:00'), Timestamp('2019-12-03 12:00:00'), Timestamp('2019-11-27 10:00:00'), Timestamp('2019-12-02 16:00:00'), Timestamp('2019-11-27 16:00:00')]\n",
      "apple\n",
      "[Timestamp('2019-12-03 15:00:00'), Timestamp('2019-12-03 16:00:00'), Timestamp('2019-12-02 14:00:00'), Timestamp('2019-12-02 11:00:00'), Timestamp('2019-11-29 12:00:00'), Timestamp('2019-12-03 13:00:00'), Timestamp('2019-11-29 10:00:00'), Timestamp('2019-11-27 14:00:00'), Timestamp('2019-12-02 12:00:00'), Timestamp('2019-12-02 10:00:00'), Timestamp('2019-12-03 10:00:00'), Timestamp('2019-12-03 14:00:00'), Timestamp('2019-12-03 11:00:00'), Timestamp('2019-11-29 11:00:00'), Timestamp('2019-11-27 12:00:00'), Timestamp('2019-11-27 13:00:00'), Timestamp('2019-11-29 13:00:00'), Timestamp('2019-11-27 11:00:00'), Timestamp('2019-12-02 13:00:00'), Timestamp('2019-11-27 15:00:00'), Timestamp('2019-12-02 15:00:00'), Timestamp('2019-12-03 12:00:00'), Timestamp('2019-11-27 10:00:00'), Timestamp('2019-12-02 16:00:00'), Timestamp('2019-11-27 16:00:00')]\n",
      "snap\n",
      "[Timestamp('2019-12-03 15:00:00'), Timestamp('2019-12-03 16:00:00'), Timestamp('2019-12-02 14:00:00'), Timestamp('2019-12-02 11:00:00'), Timestamp('2019-11-29 12:00:00'), Timestamp('2019-12-03 13:00:00'), Timestamp('2019-11-29 10:00:00'), Timestamp('2019-11-27 14:00:00'), Timestamp('2019-12-02 12:00:00'), Timestamp('2019-12-02 10:00:00'), Timestamp('2019-12-03 10:00:00'), Timestamp('2019-12-03 14:00:00'), Timestamp('2019-12-03 11:00:00'), Timestamp('2019-11-29 11:00:00'), Timestamp('2019-11-27 12:00:00'), Timestamp('2019-11-27 13:00:00'), Timestamp('2019-11-29 13:00:00'), Timestamp('2019-11-27 11:00:00'), Timestamp('2019-12-02 13:00:00'), Timestamp('2019-11-27 15:00:00'), Timestamp('2019-12-02 15:00:00'), Timestamp('2019-12-03 12:00:00'), Timestamp('2019-11-27 10:00:00'), Timestamp('2019-12-02 16:00:00'), Timestamp('2019-11-27 16:00:00')]\n"
     ]
    }
   ],
   "source": [
    "df_trends_stocks = {}\n",
    "def cleanAndJoinData():\n",
    "    for s,c in zip(company_symbol, companies):\n",
    "        print(c)\n",
    "        company_names = [x for x in list(df_trends.columns.values) if c in x]\n",
    "        df_temp_trends = df_trends[company_names]\n",
    "        \n",
    "        # line up indexes \n",
    "        stock_times = list(df_stocks[c].times)\n",
    "        trends_times = list(df_temp_trends.index)\n",
    "        joint_times = list(set(stock_times) & set(trends_times)) \n",
    "        \n",
    "        print(joint_times)\n",
    "        df_temp_stocks = df_stocks[c].loc[df_stocks[c]['times'].isin(joint_times)]\n",
    "        df_temp_stocks = df_temp_stocks.reset_index()\n",
    "        df_temp_stocks = df_temp_stocks.iloc[::-1]\n",
    "        df_temp_trends = df_temp_trends.loc[df_temp_trends.index.isin(joint_times)]\n",
    "        df_temp_trends = df_temp_trends.reset_index()\n",
    "        df_temp_trends.columns = ['_'.join(x.split()) for x in list(df_temp_trends.columns) if len(x) > 1]\n",
    "        df_trends_stocks[c] = df_temp_stocks.join(df_temp_trends,lsuffix='_left', rsuffix='_right')\n",
    "cleanAndJoinData()"
   ]
  },
  {
   "cell_type": "markdown",
   "metadata": {},
   "source": [
    "**Function for calculating new predictors**"
   ]
  },
  {
   "cell_type": "code",
   "execution_count": 33,
   "metadata": {},
   "outputs": [],
   "source": [
    "def getMovingAvgAndStdDev(col_name, num_days, df_all_data):\n",
    "    # Moving average and stdev past X days\n",
    "    col_movingAvg = []\n",
    "    col_stdev = []\n",
    "    \n",
    "    num_days_to_average = 10\n",
    "    for i in range(len(df_all_data)):\n",
    "        sum_to_avg = 0\n",
    "        nums = []\n",
    "        num_to_avg = min(num_days_to_average, len(df_all_data) - i) - 1\n",
    "        for j in range(1, num_to_avg):\n",
    "            sum_to_avg += df_all_data[col][i + j]\n",
    "            nums.append(df_all_data[col][i + j])\n",
    "        avg = sum_to_avg / (num_to_avg if num_to_avg > 0 else 1)\n",
    "        stdev = np.std((nums if nums else [0]))\n",
    "\n",
    "        col_movingAvg.append(avg)\n",
    "        col_stdev.append(stdev)\n",
    "    return col_movingAvg, col_stdev"
   ]
  },
  {
   "cell_type": "markdown",
   "metadata": {},
   "source": [
    "**Add Additional Predictors to model**"
   ]
  },
  {
   "cell_type": "code",
   "execution_count": 34,
   "metadata": {},
   "outputs": [],
   "source": [
    "def getAllParamCols(df_all_data):\n",
    "    cols = list(df_all_data.columns)\n",
    "    cols.remove('open')\n",
    "    cols.remove('close')\n",
    "    cols.remove('high')\n",
    "    cols.remove('low')\n",
    "    cols.remove('times')\n",
    "    cols.remove('date')\n",
    "    cols.remove('index')\n",
    "    cols.remove('volume')\n",
    "    cols.remove('profit')\n",
    "    cols.remove('mid')\n",
    "    cols.remove('volume_movingAvg')\n",
    "    cols.remove('volume_stdev')\n",
    "    cols.remove('profit_movingAvg')\n",
    "    cols.remove('profit_stdev')\n",
    "    cols.remove('mid_movingAvg')\n",
    "    cols.remove('mid_stdev')\n",
    "    return cols"
   ]
  },
  {
   "cell_type": "code",
   "execution_count": 35,
   "metadata": {},
   "outputs": [],
   "source": [
    "# Add predictors\n",
    "for company in df_trends_stocks: \n",
    "    # Calculate Profit For Each Company in Dict\n",
    "    (df_trends_stocks[company])['profit'] = (df_trends_stocks[company])['open']-(df_trends_stocks[company])['close']\n",
    "    (df_trends_stocks[company])['mid'] = ((df_trends_stocks[company])['high']+(df_trends_stocks[company])['low'])/2\n",
    "    # Calculate Moving Averages and Standard Deviation for Stock Data\n",
    "    # For Profit\n",
    "    num_days_to_average = 10\n",
    "    col = 'profit'\n",
    "    col_movingAvg, col_stdev = getMovingAvgAndStdDev(col, num_days_to_average, df_trends_stocks[company])\n",
    "    (df_trends_stocks[company])[col+'_movingAvg'] = col_movingAvg\n",
    "    (df_trends_stocks[company])[col+'_stdev'] = col_stdev\n",
    "    col_prev = [(df_trends_stocks[company])[col][i+1] for i in range(len((df_trends_stocks[company])) - 1)]\n",
    "    col_prev.append(0) # Append this so we can have 0 padding\n",
    "    df_trends_stocks[company][col+'_prev'] = col_prev\n",
    "    # For Mid\n",
    "    col = 'mid'\n",
    "    col_movingAvg, col_stdev = getMovingAvgAndStdDev(col, num_days_to_average, df_trends_stocks[company])\n",
    "    (df_trends_stocks[company])[col+'_movingAvg'] = col_movingAvg\n",
    "    (df_trends_stocks[company])[col+'_stdev'] = col_stdev\n",
    "    col_prev = [(df_trends_stocks[company])[col][i+1] for i in range(len((df_trends_stocks[company])) - 1)]\n",
    "    col_prev.append(0) # Append this so we can have 0 padding\n",
    "    df_trends_stocks[company][col+'_prev'] = col_prev\n",
    "    # For Volume\n",
    "    col = 'volume'\n",
    "    col_movingAvg, col_stdev = getMovingAvgAndStdDev(col, num_days_to_average, df_trends_stocks[company])\n",
    "    (df_trends_stocks[company])[col+'_movingAvg'] = col_movingAvg\n",
    "    (df_trends_stocks[company])[col+'_stdev'] = col_stdev\n",
    "    cols = getAllParamCols(df_trends_stocks[company])\n",
    "    col_prev = [(df_trends_stocks[company])[col][i+1] for i in range(len((df_trends_stocks[company])) - 1)]\n",
    "    col_prev.append(0) # Append this so we can have 0 padding\n",
    "    df_trends_stocks[company][col+'_prev'] = col_prev\n",
    "    \n",
    "    # Calculate Increment Over time\n",
    "    for col in cols: \n",
    "        # Prev \n",
    "        col_prev = [(df_trends_stocks[company])[col][i+1] for i in range(len((df_trends_stocks[company])) - 1)]\n",
    "        col_prev.append(0) # Append this so we can have 0 padding\n",
    "        #df_all_data[col+'_prev'] = col_prev\n",
    "        (df_trends_stocks[company])[col+'_prev'] = col_prev\n",
    "        col_movingAvg, col_stdev = getMovingAvgAndStdDev(col, num_days_to_average, df_trends_stocks[company])\n",
    "        \n",
    "        (df_trends_stocks[company])[col+'_movingAvg'] = col_movingAvg\n",
    "        (df_trends_stocks[company])[col+'_stdev'] = col_stdev\n",
    "    # Reverse index order\n",
    "    df_trends_stocks[company] = df_trends_stocks[company].iloc[::-1] "
   ]
  },
  {
   "cell_type": "markdown",
   "metadata": {},
   "source": [
    "**LASSO Regression Helper Functions**"
   ]
  },
  {
   "cell_type": "code",
   "execution_count": 36,
   "metadata": {},
   "outputs": [],
   "source": [
    "# Methods for LASSO Regression\n",
    "def getBestAlphaLASSORegression(y_col, parameter_cols, df_all_data_train):\n",
    "    split = int(df_all_data_train.shape[0]/2)\n",
    "    df_all_data_test = df_all_data_train[split:]\n",
    "    df_all_data_train = df_all_data_train[:split]\n",
    "    \n",
    "    X = df_all_data_train[parameter_cols]\n",
    "    y = df_all_data_train[y_col]\n",
    "    alpha = []\n",
    "    MSE_train = []\n",
    "    MSE_test = []\n",
    "    for i in range(90, 10000, 10):\n",
    "        clf = linear_model.Lasso(alpha=i)\n",
    "        clf.fit(X, y) \n",
    "        alpha.append(i)\n",
    "        MSE_train.append(mean_squared_error(clf.predict(df_all_data_train[cols]), df_all_data_train[y_col]))\n",
    "        MSE_test.append(mean_squared_error(clf.predict(df_all_data_test[cols]), df_all_data_test[y_col]))\n",
    "\n",
    "    bestAlpha = alpha[MSE_test.index(min(MSE_test))]\n",
    "    bestMSE = min(MSE_test)\n",
    "    print(\"alpha: \"+str(bestAlpha))\n",
    "    print(\"Training error = \"+str(mean_squared_error(clf.predict(df_all_data_train[cols]), df_all_data_train[y_col])))\n",
    "    print(\"Testing error = \"+str(mean_squared_error(clf.predict(df_all_data_test[cols]), df_all_data_test[y_col])))\n",
    "    print()\n",
    "    return bestAlpha, bestMSE"
   ]
  },
  {
   "cell_type": "code",
   "execution_count": 37,
   "metadata": {},
   "outputs": [],
   "source": [
    "# Define Functions For Plotting LASSO Regression\n",
    "def plotLASSO(company, alpha, label, predictors, df): \n",
    "    # Separate Data\n",
    "    split = int(df.shape[0]/2)\n",
    "    df_train = df[:split]\n",
    "    df_test = df[split:]\n",
    "    X_train = df_train[predictors]\n",
    "    Y_train = df_train[label]\n",
    "    X_test = df_test[predictors]\n",
    "    Y_test = df_test[label]\n",
    "    Y_labels = df[label]\n",
    "    # Initialize Model w/ Optimal Alpha\n",
    "    clf = linear_model.Lasso(alpha=alpha)\n",
    "    clf.fit(X_train, Y_train) \n",
    "    param_dict = dict(zip(clf.coef_, predictors))\n",
    "    print(\"Parameter Estimates w/ LASSO : \",param_dict)\n",
    "    # Make Predictions using optimal alpha value\n",
    "    y_pred_train = clf.predict(X_train)\n",
    "    y_pred_test = clf.predict(X_test)\n",
    "    # Plot test and train predictions against true labels\n",
    "    \n",
    "    fig1, ax1 = plt.subplots()\n",
    "    ax1.plot(range(split), y_pred_train, color='r')\n",
    "    ax1.plot(range(split, len(Y_labels)),y_pred_test, color='b')\n",
    "    ax1.plot(range(len(Y_labels)),Y_labels, color='g')\n",
    "    ax1.set_xlabel('Time in Hours')\n",
    "    ax1.set_ylabel(label)\n",
    "    ax1.set_title(label + ' Predictions with LASSO Regression for '+ company)"
   ]
  },
  {
   "cell_type": "markdown",
   "metadata": {},
   "source": [
    "**Run regression and view dropped features for each company**"
   ]
  },
  {
   "cell_type": "code",
   "execution_count": 38,
   "metadata": {},
   "outputs": [],
   "source": [
    "def columnsAll(company, label): \n",
    "    cols = df_trends_stocks[company].columns\n",
    "    cols = list(cols)\n",
    "    cols.remove('times')\n",
    "    cols.remove('index')\n",
    "    cols.remove('date')\n",
    "    cols.remove(label)\n",
    "    return cols\n",
    "\n",
    "def columnsTrends(company, label): \n",
    "    cols = [x for x in list(df_trends_stocks[company].columns) if company in x]\n",
    "    return cols\n",
    "\n",
    "def columnsAverage(company, label): \n",
    "    cols = [x for x in list(df_trends_stocks[company].columns) if company not in x]\n",
    "    cols.remove(label)\n",
    "    cols.remove('times')\n",
    "    cols.remove('index')\n",
    "    cols.remove('date')\n",
    "    cols.remove('open')\n",
    "    cols.remove('volume')\n",
    "    cols.remove('high')\n",
    "    cols.remove('low')\n",
    "    cols.remove('close')\n",
    "    cols.remove('profit')\n",
    "    return cols"
   ]
  },
  {
   "cell_type": "markdown",
   "metadata": {},
   "source": [
    "# Plot Predictions w/ All Predictors"
   ]
  },
  {
   "cell_type": "code",
   "execution_count": 39,
   "metadata": {},
   "outputs": [],
   "source": [
    "keys = ['All Predictors ', 'Just Trends ','Just Stock Data']\n",
    "MSE = {key: None for key in keys}\n",
    "MSE_companies = {company: MSE for company in companies}"
   ]
  },
  {
   "cell_type": "code",
   "execution_count": 40,
   "metadata": {
    "scrolled": true
   },
   "outputs": [
    {
     "name": "stdout",
     "output_type": "stream",
     "text": [
      "alpha: 90\n",
      "Training error = 0.2628668353619941\n",
      "Testing error = 13.139523605071359\n",
      "\n",
      "Parameter Estimates w/ LASSO :  {0.0: 'mid_prev_stdev', -1.1393242347477235e-06: 'volume', -4.138220396181886e-06: 'volume_movingAvg', -4.384240568062365e-06: 'volume_stdev', 1.2765140430259844e-07: 'volume_prev'}\n",
      "alpha: 90\n",
      "Training error = 1.1032348616499161\n",
      "Testing error = 4.568551444476596\n",
      "\n",
      "Parameter Estimates w/ LASSO :  {0.0: 'mid_prev_stdev', -2.4131713841324185e-07: 'volume', -3.0124927382621657e-06: 'volume_movingAvg', 9.976162285994468e-06: 'volume_stdev', 4.0241227360600496e-07: 'volume_prev'}\n",
      "alpha: 9250\n",
      "Training error = 0.32700648928317255\n",
      "Testing error = 0.852932276095554\n",
      "\n",
      "Parameter Estimates w/ LASSO :  {0.0: 'mid_prev_stdev', -1.7059369261856566e-07: 'volume', -8.175299643019676e-07: 'volume_movingAvg', 3.133890258296019e-06: 'volume_stdev'}\n",
      "alpha: 100\n",
      "Training error = 56.87844129938315\n",
      "Testing error = 1280.3957562854525\n",
      "\n",
      "Parameter Estimates w/ LASSO :  {0.0: 'mid_prev_stdev', -1.8077457232321618e-06: 'volume', -0.016512490224597262: 'mid_prev', 2.4940231774546704e-05: 'volume_movingAvg', 0.0001468375685827537: 'volume_stdev', 4.206897897634097e-05: 'volume_prev'}\n",
      "alpha: 90\n",
      "Training error = 14.292506014992888\n",
      "Testing error = 649.0385027314768\n",
      "\n",
      "Parameter Estimates w/ LASSO :  {0.0: 'mid_prev_stdev', -3.4637817061462717e-06: 'volume', -0.006478212474657402: 'mid_movingAvg', -0.004044983775978309: 'mid_prev', 1.0090393258608712e-05: 'volume_movingAvg', 1.2114072717899147e-05: 'volume_stdev', 4.6100711638214823e-05: 'volume_prev'}\n",
      "alpha: 9990\n",
      "Training error = 0.007365453651104719\n",
      "Testing error = 0.20929542541248375\n",
      "\n",
      "Parameter Estimates w/ LASSO :  {0.0: 'mid_prev_stdev', -1.0365757531201498e-07: 'volume', -4.55724180709681e-08: 'volume_movingAvg', -1.606632613359124e-08: 'volume_prev'}\n",
      "alpha: 1320\n",
      "Training error = 0.07133780301797656\n",
      "Testing error = 3.1360998902075985\n",
      "\n",
      "Parameter Estimates w/ LASSO :  {0.0: 'mid_prev_stdev', -8.97290964795016e-07: 'volume', -6.105324987517966e-11: 'volume_movingAvg', 2.5149429348146284e-06: 'volume_stdev'}\n",
      "alpha: 9990\n",
      "Training error = 2.437554548134647\n",
      "Testing error = 77.40429380755354\n",
      "\n",
      "Parameter Estimates w/ LASSO :  {0.0: 'mid_prev_stdev', -2.1685475869944898e-07: 'volume', 9.115503936416047e-06: 'volume_stdev', 9.92834960464981e-07: 'volume_prev'}\n",
      "alpha: 9990\n",
      "Training error = 0.014455355672064095\n",
      "Testing error = 0.6129269517597686\n",
      "\n",
      "Parameter Estimates w/ LASSO :  {0.0: 'mid_prev_stdev', -8.22139419799309e-09: 'volume', -1.557076819614541e-07: 'volume_movingAvg'}\n"
     ]
    },
    {
     "data": {
      "image/png": "[encoded data removed]",
      "text/plain": [
       "<Figure size 432x288 with 1 Axes>"
      ]
     },
     "metadata": {
      "needs_background": "light"
     },
     "output_type": "display_data"
    },
    {
     "data": {
      "image/png": "[encoded data removed]",
      "text/plain": [
       "<Figure size 432x288 with 1 Axes>"
      ]
     },
     "metadata": {
      "needs_background": "light"
     },
     "output_type": "display_data"
    },
    {
     "data": {
      "image/png": "[encoded data removed]",
      "text/plain": [
       "<Figure size 432x288 with 1 Axes>"
      ]
     },
     "metadata": {
      "needs_background": "light"
     },
     "output_type": "display_data"
    },
    {
     "data": {
      "image/png": "[encoded data removed]",
      "text/plain": [
       "<Figure size 432x288 with 1 Axes>"
      ]
     },
     "metadata": {
      "needs_background": "light"
     },
     "output_type": "display_data"
    },
    {
     "data": {
      "image/png": "[encoded data removed]",
      "text/plain": [
       "<Figure size 432x288 with 1 Axes>"
      ]
     },
     "metadata": {
      "needs_background": "light"
     },
     "output_type": "display_data"
    },
    {
     "data": {
      "image/png": "[encoded data removed]",
      "text/plain": [
       "<Figure size 432x288 with 1 Axes>"
      ]
     },
     "metadata": {
      "needs_background": "light"
     },
     "output_type": "display_data"
    },
    {
     "data": {
      "image/png": "[encoded data removed]",
      "text/plain": [
       "<Figure size 432x288 with 1 Axes>"
      ]
     },
     "metadata": {
      "needs_background": "light"
     },
     "output_type": "display_data"
    },
    {
     "data": {
      "image/png": "[encoded data removed]",
      "text/plain": [
       "<Figure size 432x288 with 1 Axes>"
      ]
     },
     "metadata": {
      "needs_background": "light"
     },
     "output_type": "display_data"
    },
    {
     "data": {
      "image/png": "[encoded data removed]",
      "text/plain": [
       "<Figure size 432x288 with 1 Axes>"
      ]
     },
     "metadata": {
      "needs_background": "light"
     },
     "output_type": "display_data"
    }
   ],
   "source": [
    "for company in companies: \n",
    "    # Prepare column list\n",
    "    cols = columnsAll(company, 'mid') \n",
    "    # Find best alpha for LASSO Regression\n",
    "    alpha, MSE = getBestAlphaLASSORegression('mid',cols,df_trends_stocks[company])\n",
    "    # Plot Predictions by True Labels\n",
    "    plotLASSO(company, alpha, 'mid', cols, df_trends_stocks[company])\n",
    "    # Plot MSE for LASSO Regression\n",
    "    MSE_companies[company]['All Predictors']  = MSE"
   ]
  },
  {
   "cell_type": "markdown",
   "metadata": {},
   "source": [
    "# Plot Predictions for Just Trends Data"
   ]
  },
  {
   "cell_type": "code",
   "execution_count": 41,
   "metadata": {
    "scrolled": true
   },
   "outputs": [
    {
     "name": "stdout",
     "output_type": "stream",
     "text": [
      "alpha: 90\n",
      "Training error = 0.7787878524305709\n",
      "Testing error = 22.54306473891607\n",
      "\n"
     ]
    },
    {
     "ename": "TypeError",
     "evalue": "only size-1 arrays can be converted to Python scalars",
     "output_type": "error",
     "traceback": [
      "\u001b[0;31m---------------------------------------------------------------------------\u001b[0m",
      "\u001b[0;31mTypeError\u001b[0m                                 Traceback (most recent call last)",
      "\u001b[0;32m<ipython-input-41-fc4a4c91e920>\u001b[0m in \u001b[0;36m<module>\u001b[0;34m\u001b[0m\n\u001b[1;32m      5\u001b[0m     \u001b[0malpha\u001b[0m \u001b[0;34m=\u001b[0m \u001b[0mgetBestAlphaLASSORegression\u001b[0m\u001b[0;34m(\u001b[0m\u001b[0;34m'mid'\u001b[0m\u001b[0;34m,\u001b[0m\u001b[0mcols\u001b[0m\u001b[0;34m,\u001b[0m\u001b[0mdf_trends_stocks\u001b[0m\u001b[0;34m[\u001b[0m\u001b[0mcompany\u001b[0m\u001b[0;34m]\u001b[0m\u001b[0;34m)\u001b[0m\u001b[0;34m\u001b[0m\u001b[0m\n\u001b[1;32m      6\u001b[0m     \u001b[0;31m# Plot Predictions by True Labels\u001b[0m\u001b[0;34m\u001b[0m\u001b[0;34m\u001b[0m\u001b[0m\n\u001b[0;32m----> 7\u001b[0;31m     \u001b[0mplotLASSO\u001b[0m\u001b[0;34m(\u001b[0m\u001b[0mcompany\u001b[0m\u001b[0;34m,\u001b[0m \u001b[0malpha\u001b[0m\u001b[0;34m,\u001b[0m \u001b[0;34m'mid'\u001b[0m\u001b[0;34m,\u001b[0m \u001b[0mcols\u001b[0m\u001b[0;34m,\u001b[0m \u001b[0mdf_trends_stocks\u001b[0m\u001b[0;34m[\u001b[0m\u001b[0mcompany\u001b[0m\u001b[0;34m]\u001b[0m\u001b[0;34m)\u001b[0m\u001b[0;34m\u001b[0m\u001b[0m\n\u001b[0m\u001b[1;32m      8\u001b[0m     \u001b[0;31m# Plot MSE train and test for LASSO Regression\u001b[0m\u001b[0;34m\u001b[0m\u001b[0;34m\u001b[0m\u001b[0m\n\u001b[1;32m      9\u001b[0m     \u001b[0mMSE_companies\u001b[0m\u001b[0;34m[\u001b[0m\u001b[0mcompany\u001b[0m\u001b[0;34m]\u001b[0m\u001b[0;34m[\u001b[0m\u001b[0;34m'Just Trends'\u001b[0m\u001b[0;34m]\u001b[0m  \u001b[0;34m=\u001b[0m \u001b[0mMSE\u001b[0m\u001b[0;34m\u001b[0m\u001b[0m\n",
      "\u001b[0;32m<ipython-input-37-e013ed582f5b>\u001b[0m in \u001b[0;36mplotLASSO\u001b[0;34m(company, alpha, label, predictors, df)\u001b[0m\n\u001b[1;32m     12\u001b[0m     \u001b[0;31m# Initialize Model w/ Optimal Alpha\u001b[0m\u001b[0;34m\u001b[0m\u001b[0;34m\u001b[0m\u001b[0m\n\u001b[1;32m     13\u001b[0m     \u001b[0mclf\u001b[0m \u001b[0;34m=\u001b[0m \u001b[0mlinear_model\u001b[0m\u001b[0;34m.\u001b[0m\u001b[0mLasso\u001b[0m\u001b[0;34m(\u001b[0m\u001b[0malpha\u001b[0m\u001b[0;34m=\u001b[0m\u001b[0malpha\u001b[0m\u001b[0;34m)\u001b[0m\u001b[0;34m\u001b[0m\u001b[0m\n\u001b[0;32m---> 14\u001b[0;31m     \u001b[0mclf\u001b[0m\u001b[0;34m.\u001b[0m\u001b[0mfit\u001b[0m\u001b[0;34m(\u001b[0m\u001b[0mX_train\u001b[0m\u001b[0;34m,\u001b[0m \u001b[0mY_train\u001b[0m\u001b[0;34m)\u001b[0m\u001b[0;34m\u001b[0m\u001b[0m\n\u001b[0m\u001b[1;32m     15\u001b[0m     \u001b[0mparam_dict\u001b[0m \u001b[0;34m=\u001b[0m \u001b[0mdict\u001b[0m\u001b[0;34m(\u001b[0m\u001b[0mzip\u001b[0m\u001b[0;34m(\u001b[0m\u001b[0mclf\u001b[0m\u001b[0;34m.\u001b[0m\u001b[0mcoef_\u001b[0m\u001b[0;34m,\u001b[0m \u001b[0mpredictors\u001b[0m\u001b[0;34m)\u001b[0m\u001b[0;34m)\u001b[0m\u001b[0;34m\u001b[0m\u001b[0m\n\u001b[1;32m     16\u001b[0m     \u001b[0mprint\u001b[0m\u001b[0;34m(\u001b[0m\u001b[0;34m\"Parameter Estimates w/ LASSO : \"\u001b[0m\u001b[0;34m,\u001b[0m\u001b[0mparam_dict\u001b[0m\u001b[0;34m)\u001b[0m\u001b[0;34m\u001b[0m\u001b[0m\n",
      "\u001b[0;32m/Library/Frameworks/Python.framework/Versions/3.7/lib/python3.7/site-packages/sklearn/linear_model/coordinate_descent.py\u001b[0m in \u001b[0;36mfit\u001b[0;34m(self, X, y, check_input)\u001b[0m\n\u001b[1;32m    750\u001b[0m                           \u001b[0mrandom_state\u001b[0m\u001b[0;34m=\u001b[0m\u001b[0mself\u001b[0m\u001b[0;34m.\u001b[0m\u001b[0mrandom_state\u001b[0m\u001b[0;34m,\u001b[0m\u001b[0;34m\u001b[0m\u001b[0m\n\u001b[1;32m    751\u001b[0m                           \u001b[0mselection\u001b[0m\u001b[0;34m=\u001b[0m\u001b[0mself\u001b[0m\u001b[0;34m.\u001b[0m\u001b[0mselection\u001b[0m\u001b[0;34m,\u001b[0m\u001b[0;34m\u001b[0m\u001b[0m\n\u001b[0;32m--> 752\u001b[0;31m                           check_input=False)\n\u001b[0m\u001b[1;32m    753\u001b[0m             \u001b[0mcoef_\u001b[0m\u001b[0;34m[\u001b[0m\u001b[0mk\u001b[0m\u001b[0;34m]\u001b[0m \u001b[0;34m=\u001b[0m \u001b[0mthis_coef\u001b[0m\u001b[0;34m[\u001b[0m\u001b[0;34m:\u001b[0m\u001b[0;34m,\u001b[0m \u001b[0;36m0\u001b[0m\u001b[0;34m]\u001b[0m\u001b[0;34m\u001b[0m\u001b[0m\n\u001b[1;32m    754\u001b[0m             \u001b[0mdual_gaps_\u001b[0m\u001b[0;34m[\u001b[0m\u001b[0mk\u001b[0m\u001b[0;34m]\u001b[0m \u001b[0;34m=\u001b[0m \u001b[0mthis_dual_gap\u001b[0m\u001b[0;34m[\u001b[0m\u001b[0;36m0\u001b[0m\u001b[0;34m]\u001b[0m\u001b[0;34m\u001b[0m\u001b[0m\n",
      "\u001b[0;32m/Library/Frameworks/Python.framework/Versions/3.7/lib/python3.7/site-packages/sklearn/linear_model/coordinate_descent.py\u001b[0m in \u001b[0;36menet_path\u001b[0;34m(X, y, l1_ratio, eps, n_alphas, alphas, precompute, Xy, copy_X, coef_init, verbose, return_n_iter, positive, check_input, **params)\u001b[0m\n\u001b[1;32m    473\u001b[0m             model = cd_fast.enet_coordinate_descent(\n\u001b[1;32m    474\u001b[0m                 \u001b[0mcoef_\u001b[0m\u001b[0;34m,\u001b[0m \u001b[0ml1_reg\u001b[0m\u001b[0;34m,\u001b[0m \u001b[0ml2_reg\u001b[0m\u001b[0;34m,\u001b[0m \u001b[0mX\u001b[0m\u001b[0;34m,\u001b[0m \u001b[0my\u001b[0m\u001b[0;34m,\u001b[0m \u001b[0mmax_iter\u001b[0m\u001b[0;34m,\u001b[0m \u001b[0mtol\u001b[0m\u001b[0;34m,\u001b[0m \u001b[0mrng\u001b[0m\u001b[0;34m,\u001b[0m \u001b[0mrandom\u001b[0m\u001b[0;34m,\u001b[0m\u001b[0;34m\u001b[0m\u001b[0m\n\u001b[0;32m--> 475\u001b[0;31m                 positive)\n\u001b[0m\u001b[1;32m    476\u001b[0m         \u001b[0;32melse\u001b[0m\u001b[0;34m:\u001b[0m\u001b[0;34m\u001b[0m\u001b[0m\n\u001b[1;32m    477\u001b[0m             raise ValueError(\"Precompute should be one of True, False, \"\n",
      "\u001b[0;32msklearn/linear_model/cd_fast.pyx\u001b[0m in \u001b[0;36msklearn.linear_model.cd_fast.enet_coordinate_descent\u001b[0;34m()\u001b[0m\n",
      "\u001b[0;31mTypeError\u001b[0m: only size-1 arrays can be converted to Python scalars"
     ]
    }
   ],
   "source": [
    "for company in companies: \n",
    "    # Prepare column list\n",
    "    cols = columnsTrends(company, 'mid') \n",
    "    # Find best alpha for LASSO Regression\n",
    "    alpha = getBestAlphaLASSORegression('mid',cols,df_trends_stocks[company])\n",
    "    # Plot Predictions by True Labels\n",
    "    plotLASSO(company, alpha, 'mid', cols, df_trends_stocks[company])\n",
    "    # Plot MSE train and test for LASSO Regression\n",
    "    MSE_companies[company]['Just Trends']  = MSE"
   ]
  },
  {
   "cell_type": "markdown",
   "metadata": {},
   "source": [
    "# Plot Predictions for Just Stock Data"
   ]
  },
  {
   "cell_type": "code",
   "execution_count": null,
   "metadata": {
    "scrolled": true
   },
   "outputs": [],
   "source": [
    "for company in companies: \n",
    "    # Prepare column list\n",
    "    cols = columnsAverage(company, 'mid') \n",
    "    # Find best alpha for LASSO Regression\n",
    "    alpha = getBestAlphaLASSORegression('mid',cols,df_trends_stocks[company])\n",
    "    # Plot Predictions by True Labels\n",
    "    plotLASSO(company, alpha, 'mid', cols, df_trends_stocks[company])\n",
    "    # Plot MSE train and test for LASSO Regression\n",
    "    MSE_companies[company]['Just Stock Data']  = MSE"
   ]
  },
  {
   "cell_type": "code",
   "execution_count": null,
   "metadata": {},
   "outputs": [],
   "source": [
    "print(MSE_companies)"
   ]
  }
 ],
 "metadata": {
  "kernelspec": {
   "display_name": "Python 3",
   "language": "python",
   "name": "python3"
  },
  "language_info": {
   "codemirror_mode": {
    "name": "ipython",
    "version": 3
   },
   "file_extension": ".py",
   "mimetype": "text/x-python",
   "name": "python",
   "nbconvert_exporter": "python",
   "pygments_lexer": "ipython3",
   "version": "3.7.0"
  }
 },
 "nbformat": 4,
 "nbformat_minor": 2
}
