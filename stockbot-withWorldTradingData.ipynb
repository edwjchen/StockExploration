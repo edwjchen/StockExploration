{
 "cells": [
  {
   "cell_type": "code",
   "execution_count": 1,
   "metadata": {},
   "outputs": [],
   "source": [
    "import requests\n",
    "import json\n",
    "import pandas as pd\n",
    "import matplotlib.pyplot as plt"
   ]
  },
  {
   "cell_type": "code",
   "execution_count": 90,
   "metadata": {},
   "outputs": [],
   "source": [
    "ts = 'TIME_SERIES_INTRADAY'#'TIME_SERIES_DAILY'\n",
    "interval = '1min'\n",
    "api_key = '' \n",
    "outputsize = 'full' # compact=100 results, full= all data (5 days?)\n",
    "def getIntraday1minDF(symbol): \n",
    "    link = 'https://www.alphavantage.co/query?function={}&symbol={}&interval={}&apikey={}&outputsize={}'\\\n",
    "        .format(ts, symbol, interval, api_key, outputsize)\n",
    "    request = requests.get(link)\n",
    "    data = json.loads(request.text)\n",
    "    stock_data = json.dumps(data[\"Time Series (1min)\"])\n",
    "    df = pd.read_json(stock_data).transpose()\n",
    "    cols = ['1. open', '2. high', '3. low', '4. close', '5. volume']\n",
    "    df = df[cols]\n",
    "    df.reset_index(level=0, inplace=True)\n",
    "    df.columns = ['times', 'open', 'high', 'low', 'close', 'volume']\n",
    "    return df"
   ]
  },
  {
   "cell_type": "code",
   "execution_count": 86,
   "metadata": {},
   "outputs": [],
   "source": [
    "worldTradingData_APIKey = ''\n",
    "def getWorldTradingData_Intraday1min(symbol, days=1, interval=1) :\n",
    "    # limits on the inputs https://www.worldtradingdata.com/documentation#stock-and-index-intraday\n",
    "    link = \"https://intraday.worldtradingdata.com/api/v1/intraday?symbol={}&range={}&interval={}&api_token={}\"\\\n",
    "        .format(symbol, days, interval, worldTradingData_APIKey)\n",
    "    request = requests.get(link)\n",
    "    data = json.loads(request.text)\n",
    "    stock_data = json.dumps(data[\"intraday\"])\n",
    "    df = pd.read_json(stock_data).transpose()\n",
    "    cols = ['open', 'high', 'low', 'close', 'volume']\n",
    "    df = df[cols]\n",
    "    df.reset_index(level=0, inplace=True)\n",
    "    df.columns = ['times', 'open', 'high', 'low', 'close', 'volume']\n",
    "    return df\n",
    "    \n",
    "    "
   ]
  },
  {
   "cell_type": "code",
   "execution_count": 87,
   "metadata": {},
   "outputs": [],
   "source": [
    "TSLA_world = getWorldTradingData_Intraday1min(\"TSLA\", days=5)"
   ]
  },
  {
   "cell_type": "code",
   "execution_count": 88,
   "metadata": {},
   "outputs": [
    {
     "data": {
      "text/plain": [
       "1945"
      ]
     },
     "execution_count": 88,
     "metadata": {},
     "output_type": "execute_result"
    }
   ],
   "source": [
    "len(TSLA_world)"
   ]
  },
  {
   "cell_type": "code",
   "execution_count": 89,
   "metadata": {},
   "outputs": [
    {
     "data": {
      "text/html": [
       "<div>\n",
       "<style scoped>\n",
       "    .dataframe tbody tr th:only-of-type {\n",
       "        vertical-align: middle;\n",
       "    }\n",
       "\n",
       "    .dataframe tbody tr th {\n",
       "        vertical-align: top;\n",
       "    }\n",
       "\n",
       "    .dataframe thead th {\n",
       "        text-align: right;\n",
       "    }\n",
       "</style>\n",
       "<table border=\"1\" class=\"dataframe\">\n",
       "  <thead>\n",
       "    <tr style=\"text-align: right;\">\n",
       "      <th></th>\n",
       "      <th>times</th>\n",
       "      <th>open</th>\n",
       "      <th>high</th>\n",
       "      <th>low</th>\n",
       "      <th>close</th>\n",
       "      <th>volume</th>\n",
       "    </tr>\n",
       "  </thead>\n",
       "  <tbody>\n",
       "    <tr>\n",
       "      <th>0</th>\n",
       "      <td>2019-11-15 15:54:22</td>\n",
       "      <td>352.11</td>\n",
       "      <td>352.11</td>\n",
       "      <td>352.11</td>\n",
       "      <td>352.11</td>\n",
       "      <td>0.0</td>\n",
       "    </tr>\n",
       "    <tr>\n",
       "      <th>1</th>\n",
       "      <td>2019-11-15 15:54:00</td>\n",
       "      <td>352.11</td>\n",
       "      <td>352.11</td>\n",
       "      <td>352.11</td>\n",
       "      <td>352.11</td>\n",
       "      <td>0.0</td>\n",
       "    </tr>\n",
       "    <tr>\n",
       "      <th>2</th>\n",
       "      <td>2019-11-15 15:53:00</td>\n",
       "      <td>352.25</td>\n",
       "      <td>352.40</td>\n",
       "      <td>352.06</td>\n",
       "      <td>352.07</td>\n",
       "      <td>41549.0</td>\n",
       "    </tr>\n",
       "    <tr>\n",
       "      <th>3</th>\n",
       "      <td>2019-11-15 15:52:00</td>\n",
       "      <td>352.25</td>\n",
       "      <td>352.40</td>\n",
       "      <td>352.06</td>\n",
       "      <td>352.07</td>\n",
       "      <td>41549.0</td>\n",
       "    </tr>\n",
       "    <tr>\n",
       "      <th>4</th>\n",
       "      <td>2019-11-15 15:51:00</td>\n",
       "      <td>352.31</td>\n",
       "      <td>352.36</td>\n",
       "      <td>352.15</td>\n",
       "      <td>352.22</td>\n",
       "      <td>27744.0</td>\n",
       "    </tr>\n",
       "    <tr>\n",
       "      <th>5</th>\n",
       "      <td>2019-11-15 15:50:00</td>\n",
       "      <td>352.47</td>\n",
       "      <td>352.50</td>\n",
       "      <td>352.31</td>\n",
       "      <td>352.31</td>\n",
       "      <td>21005.0</td>\n",
       "    </tr>\n",
       "    <tr>\n",
       "      <th>6</th>\n",
       "      <td>2019-11-15 15:49:00</td>\n",
       "      <td>352.30</td>\n",
       "      <td>352.47</td>\n",
       "      <td>352.30</td>\n",
       "      <td>352.47</td>\n",
       "      <td>14719.0</td>\n",
       "    </tr>\n",
       "    <tr>\n",
       "      <th>7</th>\n",
       "      <td>2019-11-15 15:48:00</td>\n",
       "      <td>352.19</td>\n",
       "      <td>352.45</td>\n",
       "      <td>352.19</td>\n",
       "      <td>352.31</td>\n",
       "      <td>20939.0</td>\n",
       "    </tr>\n",
       "    <tr>\n",
       "      <th>8</th>\n",
       "      <td>2019-11-15 15:47:00</td>\n",
       "      <td>352.04</td>\n",
       "      <td>352.39</td>\n",
       "      <td>351.95</td>\n",
       "      <td>352.20</td>\n",
       "      <td>36354.0</td>\n",
       "    </tr>\n",
       "    <tr>\n",
       "      <th>9</th>\n",
       "      <td>2019-11-15 15:46:00</td>\n",
       "      <td>351.99</td>\n",
       "      <td>352.17</td>\n",
       "      <td>351.94</td>\n",
       "      <td>352.10</td>\n",
       "      <td>12377.0</td>\n",
       "    </tr>\n",
       "  </tbody>\n",
       "</table>\n",
       "</div>"
      ],
      "text/plain": [
       "                times    open    high     low   close   volume\n",
       "0 2019-11-15 15:54:22  352.11  352.11  352.11  352.11      0.0\n",
       "1 2019-11-15 15:54:00  352.11  352.11  352.11  352.11      0.0\n",
       "2 2019-11-15 15:53:00  352.25  352.40  352.06  352.07  41549.0\n",
       "3 2019-11-15 15:52:00  352.25  352.40  352.06  352.07  41549.0\n",
       "4 2019-11-15 15:51:00  352.31  352.36  352.15  352.22  27744.0\n",
       "5 2019-11-15 15:50:00  352.47  352.50  352.31  352.31  21005.0\n",
       "6 2019-11-15 15:49:00  352.30  352.47  352.30  352.47  14719.0\n",
       "7 2019-11-15 15:48:00  352.19  352.45  352.19  352.31  20939.0\n",
       "8 2019-11-15 15:47:00  352.04  352.39  351.95  352.20  36354.0\n",
       "9 2019-11-15 15:46:00  351.99  352.17  351.94  352.10  12377.0"
      ]
     },
     "execution_count": 89,
     "metadata": {},
     "output_type": "execute_result"
    }
   ],
   "source": [
    "TSLA_world.head(10)"
   ]
  },
  {
   "cell_type": "code",
   "execution_count": 100,
   "metadata": {},
   "outputs": [
    {
     "data": {
      "text/html": [
       "<div>\n",
       "<style scoped>\n",
       "    .dataframe tbody tr th:only-of-type {\n",
       "        vertical-align: middle;\n",
       "    }\n",
       "\n",
       "    .dataframe tbody tr th {\n",
       "        vertical-align: top;\n",
       "    }\n",
       "\n",
       "    .dataframe thead th {\n",
       "        text-align: right;\n",
       "    }\n",
       "</style>\n",
       "<table border=\"1\" class=\"dataframe\">\n",
       "  <thead>\n",
       "    <tr style=\"text-align: right;\">\n",
       "      <th></th>\n",
       "      <th>times</th>\n",
       "      <th>open</th>\n",
       "      <th>high</th>\n",
       "      <th>low</th>\n",
       "      <th>close</th>\n",
       "      <th>volume</th>\n",
       "    </tr>\n",
       "  </thead>\n",
       "  <tbody>\n",
       "    <tr>\n",
       "      <th>1940</th>\n",
       "      <td>2019-11-11 09:34:00</td>\n",
       "      <td>344.68</td>\n",
       "      <td>344.68</td>\n",
       "      <td>344.68</td>\n",
       "      <td>344.68</td>\n",
       "      <td>100037.0</td>\n",
       "    </tr>\n",
       "    <tr>\n",
       "      <th>1941</th>\n",
       "      <td>2019-11-11 09:33:00</td>\n",
       "      <td>346.32</td>\n",
       "      <td>346.40</td>\n",
       "      <td>344.78</td>\n",
       "      <td>345.16</td>\n",
       "      <td>134201.0</td>\n",
       "    </tr>\n",
       "    <tr>\n",
       "      <th>1942</th>\n",
       "      <td>2019-11-11 09:32:00</td>\n",
       "      <td>345.61</td>\n",
       "      <td>346.55</td>\n",
       "      <td>345.15</td>\n",
       "      <td>346.35</td>\n",
       "      <td>141021.0</td>\n",
       "    </tr>\n",
       "    <tr>\n",
       "      <th>1943</th>\n",
       "      <td>2019-11-11 09:31:00</td>\n",
       "      <td>342.31</td>\n",
       "      <td>345.77</td>\n",
       "      <td>342.22</td>\n",
       "      <td>345.41</td>\n",
       "      <td>282506.0</td>\n",
       "    </tr>\n",
       "    <tr>\n",
       "      <th>1944</th>\n",
       "      <td>2019-11-11 09:30:00</td>\n",
       "      <td>343.73</td>\n",
       "      <td>343.99</td>\n",
       "      <td>342.00</td>\n",
       "      <td>342.41</td>\n",
       "      <td>453113.0</td>\n",
       "    </tr>\n",
       "  </tbody>\n",
       "</table>\n",
       "</div>"
      ],
      "text/plain": [
       "                   times    open    high     low   close    volume\n",
       "1940 2019-11-11 09:34:00  344.68  344.68  344.68  344.68  100037.0\n",
       "1941 2019-11-11 09:33:00  346.32  346.40  344.78  345.16  134201.0\n",
       "1942 2019-11-11 09:32:00  345.61  346.55  345.15  346.35  141021.0\n",
       "1943 2019-11-11 09:31:00  342.31  345.77  342.22  345.41  282506.0\n",
       "1944 2019-11-11 09:30:00  343.73  343.99  342.00  342.41  453113.0"
      ]
     },
     "execution_count": 100,
     "metadata": {},
     "output_type": "execute_result"
    }
   ],
   "source": [
    "TSLA_world.tail()"
   ]
  },
  {
   "cell_type": "code",
   "execution_count": 91,
   "metadata": {},
   "outputs": [],
   "source": [
    "tsla_df = getIntraday1minDF(\"TSLA\")\n",
    "# msft_df = getIntraday1minDF(\"MSFT\")"
   ]
  },
  {
   "cell_type": "code",
   "execution_count": 92,
   "metadata": {},
   "outputs": [
    {
     "data": {
      "text/plain": [
       "1926"
      ]
     },
     "execution_count": 92,
     "metadata": {},
     "output_type": "execute_result"
    }
   ],
   "source": [
    "len(tsla_df)"
   ]
  },
  {
   "cell_type": "code",
   "execution_count": 94,
   "metadata": {},
   "outputs": [
    {
     "data": {
      "text/html": [
       "<div>\n",
       "<style scoped>\n",
       "    .dataframe tbody tr th:only-of-type {\n",
       "        vertical-align: middle;\n",
       "    }\n",
       "\n",
       "    .dataframe tbody tr th {\n",
       "        vertical-align: top;\n",
       "    }\n",
       "\n",
       "    .dataframe thead th {\n",
       "        text-align: right;\n",
       "    }\n",
       "</style>\n",
       "<table border=\"1\" class=\"dataframe\">\n",
       "  <thead>\n",
       "    <tr style=\"text-align: right;\">\n",
       "      <th></th>\n",
       "      <th>times</th>\n",
       "      <th>open</th>\n",
       "      <th>high</th>\n",
       "      <th>low</th>\n",
       "      <th>close</th>\n",
       "      <th>volume</th>\n",
       "    </tr>\n",
       "  </thead>\n",
       "  <tbody>\n",
       "    <tr>\n",
       "      <th>0</th>\n",
       "      <td>2019-11-15 15:54:00</td>\n",
       "      <td>352.0950</td>\n",
       "      <td>352.1900</td>\n",
       "      <td>352.0000</td>\n",
       "      <td>352.190</td>\n",
       "      <td>17914.0</td>\n",
       "    </tr>\n",
       "    <tr>\n",
       "      <th>1</th>\n",
       "      <td>2019-11-15 15:53:00</td>\n",
       "      <td>352.2500</td>\n",
       "      <td>352.4000</td>\n",
       "      <td>352.0616</td>\n",
       "      <td>352.070</td>\n",
       "      <td>41549.0</td>\n",
       "    </tr>\n",
       "    <tr>\n",
       "      <th>2</th>\n",
       "      <td>2019-11-15 15:52:00</td>\n",
       "      <td>352.3100</td>\n",
       "      <td>352.3600</td>\n",
       "      <td>352.1500</td>\n",
       "      <td>352.220</td>\n",
       "      <td>27744.0</td>\n",
       "    </tr>\n",
       "    <tr>\n",
       "      <th>3</th>\n",
       "      <td>2019-11-15 15:51:00</td>\n",
       "      <td>352.4300</td>\n",
       "      <td>352.5000</td>\n",
       "      <td>352.3100</td>\n",
       "      <td>352.310</td>\n",
       "      <td>20256.0</td>\n",
       "    </tr>\n",
       "    <tr>\n",
       "      <th>4</th>\n",
       "      <td>2019-11-15 15:50:00</td>\n",
       "      <td>352.3000</td>\n",
       "      <td>352.4700</td>\n",
       "      <td>352.3000</td>\n",
       "      <td>352.470</td>\n",
       "      <td>15468.0</td>\n",
       "    </tr>\n",
       "    <tr>\n",
       "      <th>5</th>\n",
       "      <td>2019-11-15 15:49:00</td>\n",
       "      <td>352.1918</td>\n",
       "      <td>352.4500</td>\n",
       "      <td>352.1918</td>\n",
       "      <td>352.310</td>\n",
       "      <td>20939.0</td>\n",
       "    </tr>\n",
       "    <tr>\n",
       "      <th>6</th>\n",
       "      <td>2019-11-15 15:48:00</td>\n",
       "      <td>352.0400</td>\n",
       "      <td>352.3900</td>\n",
       "      <td>351.9500</td>\n",
       "      <td>352.200</td>\n",
       "      <td>36354.0</td>\n",
       "    </tr>\n",
       "    <tr>\n",
       "      <th>7</th>\n",
       "      <td>2019-11-15 15:47:00</td>\n",
       "      <td>351.9900</td>\n",
       "      <td>352.1700</td>\n",
       "      <td>351.9400</td>\n",
       "      <td>352.095</td>\n",
       "      <td>12377.0</td>\n",
       "    </tr>\n",
       "    <tr>\n",
       "      <th>8</th>\n",
       "      <td>2019-11-15 15:46:00</td>\n",
       "      <td>351.9200</td>\n",
       "      <td>352.3106</td>\n",
       "      <td>351.8400</td>\n",
       "      <td>352.000</td>\n",
       "      <td>30194.0</td>\n",
       "    </tr>\n",
       "    <tr>\n",
       "      <th>9</th>\n",
       "      <td>2019-11-15 15:45:00</td>\n",
       "      <td>351.8800</td>\n",
       "      <td>352.0600</td>\n",
       "      <td>351.8000</td>\n",
       "      <td>351.920</td>\n",
       "      <td>22163.0</td>\n",
       "    </tr>\n",
       "  </tbody>\n",
       "</table>\n",
       "</div>"
      ],
      "text/plain": [
       "                times      open      high       low    close   volume\n",
       "0 2019-11-15 15:54:00  352.0950  352.1900  352.0000  352.190  17914.0\n",
       "1 2019-11-15 15:53:00  352.2500  352.4000  352.0616  352.070  41549.0\n",
       "2 2019-11-15 15:52:00  352.3100  352.3600  352.1500  352.220  27744.0\n",
       "3 2019-11-15 15:51:00  352.4300  352.5000  352.3100  352.310  20256.0\n",
       "4 2019-11-15 15:50:00  352.3000  352.4700  352.3000  352.470  15468.0\n",
       "5 2019-11-15 15:49:00  352.1918  352.4500  352.1918  352.310  20939.0\n",
       "6 2019-11-15 15:48:00  352.0400  352.3900  351.9500  352.200  36354.0\n",
       "7 2019-11-15 15:47:00  351.9900  352.1700  351.9400  352.095  12377.0\n",
       "8 2019-11-15 15:46:00  351.9200  352.3106  351.8400  352.000  30194.0\n",
       "9 2019-11-15 15:45:00  351.8800  352.0600  351.8000  351.920  22163.0"
      ]
     },
     "execution_count": 94,
     "metadata": {},
     "output_type": "execute_result"
    }
   ],
   "source": [
    "tsla_df.head(10)"
   ]
  },
  {
   "cell_type": "code",
   "execution_count": 101,
   "metadata": {},
   "outputs": [
    {
     "data": {
      "text/html": [
       "<div>\n",
       "<style scoped>\n",
       "    .dataframe tbody tr th:only-of-type {\n",
       "        vertical-align: middle;\n",
       "    }\n",
       "\n",
       "    .dataframe tbody tr th {\n",
       "        vertical-align: top;\n",
       "    }\n",
       "\n",
       "    .dataframe thead th {\n",
       "        text-align: right;\n",
       "    }\n",
       "</style>\n",
       "<table border=\"1\" class=\"dataframe\">\n",
       "  <thead>\n",
       "    <tr style=\"text-align: right;\">\n",
       "      <th></th>\n",
       "      <th>times</th>\n",
       "      <th>open</th>\n",
       "      <th>high</th>\n",
       "      <th>low</th>\n",
       "      <th>close</th>\n",
       "      <th>volume</th>\n",
       "    </tr>\n",
       "  </thead>\n",
       "  <tbody>\n",
       "    <tr>\n",
       "      <th>1921</th>\n",
       "      <td>2019-11-11 09:35:00</td>\n",
       "      <td>344.6850</td>\n",
       "      <td>344.6850</td>\n",
       "      <td>344.6850</td>\n",
       "      <td>344.6850</td>\n",
       "      <td>100037.0</td>\n",
       "    </tr>\n",
       "    <tr>\n",
       "      <th>1922</th>\n",
       "      <td>2019-11-11 09:34:00</td>\n",
       "      <td>346.3225</td>\n",
       "      <td>346.6726</td>\n",
       "      <td>345.0549</td>\n",
       "      <td>345.1668</td>\n",
       "      <td>137126.0</td>\n",
       "    </tr>\n",
       "    <tr>\n",
       "      <th>1923</th>\n",
       "      <td>2019-11-11 09:33:00</td>\n",
       "      <td>345.6191</td>\n",
       "      <td>346.8858</td>\n",
       "      <td>345.4845</td>\n",
       "      <td>346.3591</td>\n",
       "      <td>139328.0</td>\n",
       "    </tr>\n",
       "    <tr>\n",
       "      <th>1924</th>\n",
       "      <td>2019-11-11 09:32:00</td>\n",
       "      <td>342.3100</td>\n",
       "      <td>345.7700</td>\n",
       "      <td>342.2200</td>\n",
       "      <td>345.4100</td>\n",
       "      <td>282506.0</td>\n",
       "    </tr>\n",
       "    <tr>\n",
       "      <th>1925</th>\n",
       "      <td>2019-11-11 09:31:00</td>\n",
       "      <td>343.7409</td>\n",
       "      <td>344.3275</td>\n",
       "      <td>342.3355</td>\n",
       "      <td>342.4209</td>\n",
       "      <td>458958.0</td>\n",
       "    </tr>\n",
       "  </tbody>\n",
       "</table>\n",
       "</div>"
      ],
      "text/plain": [
       "                   times      open      high       low     close    volume\n",
       "1921 2019-11-11 09:35:00  344.6850  344.6850  344.6850  344.6850  100037.0\n",
       "1922 2019-11-11 09:34:00  346.3225  346.6726  345.0549  345.1668  137126.0\n",
       "1923 2019-11-11 09:33:00  345.6191  346.8858  345.4845  346.3591  139328.0\n",
       "1924 2019-11-11 09:32:00  342.3100  345.7700  342.2200  345.4100  282506.0\n",
       "1925 2019-11-11 09:31:00  343.7409  344.3275  342.3355  342.4209  458958.0"
      ]
     },
     "execution_count": 101,
     "metadata": {},
     "output_type": "execute_result"
    }
   ],
   "source": [
    "tsla_df.tail()"
   ]
  },
  {
   "cell_type": "code",
   "execution_count": 97,
   "metadata": {},
   "outputs": [],
   "source": [
    "def plotOpenPrices(dataframe):\n",
    "    open_prices = [close_stock for open_stock, close_stock in zip(dataframe['open'], dataframe['close'])]\n",
    "    plt.plot(dataframe.index, open_prices)\n",
    "    plt.xlim(len(dataframe.index)+10,0-10)\n",
    "    plt.xlabel('Minutes before now (in 1 minute intervals)')\n",
    "    plt.ylabel('Open price')\n",
    "    plt.title('Market Price for the past in 1 min intervals')\n",
    "    plt.show()\n",
    "    \n",
    "    "
   ]
  },
  {
   "cell_type": "code",
   "execution_count": 99,
   "metadata": {},
   "outputs": [
    {
     "data": {
      "image/png": "[encoded data removed]",
      "text/plain": [
       "<Figure size 432x288 with 1 Axes>"
      ]
     },
     "metadata": {
      "needs_background": "light"
     },
     "output_type": "display_data"
    }
   ],
   "source": [
    "plotOpenPrices(TSLA_world)"
   ]
  },
  {
   "cell_type": "code",
   "execution_count": 98,
   "metadata": {},
   "outputs": [
    {
     "data": {
      "image/png": "[encoded data removed]",
      "text/plain": [
       "<Figure size 432x288 with 1 Axes>"
      ]
     },
     "metadata": {
      "needs_background": "light"
     },
     "output_type": "display_data"
    }
   ],
   "source": [
    "plotOpenPrices(tsla_df)"
   ]
  },
  {
   "cell_type": "code",
   "execution_count": null,
   "metadata": {},
   "outputs": [],
   "source": []
  }
 ],
 "metadata": {
  "kernelspec": {
   "display_name": "Python 3",
   "language": "python",
   "name": "python3"
  },
  "language_info": {
   "codemirror_mode": {
    "name": "ipython",
    "version": 3
   },
   "file_extension": ".py",
   "mimetype": "text/x-python",
   "name": "python",
   "nbconvert_exporter": "python",
   "pygments_lexer": "ipython3",
   "version": "3.6.8"
  }
 },
 "nbformat": 4,
 "nbformat_minor": 2
}
