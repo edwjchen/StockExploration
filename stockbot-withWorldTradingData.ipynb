{
 "cells": [
  {
   "cell_type": "code",
   "execution_count": 3,
   "metadata": {},
   "outputs": [],
   "source": [
    "import requests\n",
    "import json\n",
    "import pandas as pd\n",
    "import matplotlib.pyplot as plt"
   ]
  },
  {
   "cell_type": "code",
   "execution_count": 15,
   "metadata": {},
   "outputs": [],
   "source": [
    "ts = 'TIME_SERIES_INTRADAY'#'TIME_SERIES_DAILY'\n",
    "interval = '1min'\n",
    "api_key = '' \n",
    "outputsize = 'full' # compact=100 results, full= all data (5 days?)\n",
    "def getIntraday1minDF(symbol): \n",
    "    link = 'https://www.alphavantage.co/query?function={}&symbol={}&interval={}&apikey={}&outputsize={}'\\\n",
    "        .format(ts, symbol, interval, api_key, outputsize)\n",
    "    request = requests.get(link)\n",
    "    data = json.loads(request.text)\n",
    "    stock_data = json.dumps(data[\"Time Series (1min)\"])\n",
    "    df = pd.read_json(stock_data).transpose()\n",
    "    cols = ['1. open', '2. high', '3. low', '4. close', '5. volume']\n",
    "    df = df[cols]\n",
    "    df.reset_index(level=0, inplace=True)\n",
    "    df.columns = ['times', 'open', 'high', 'low', 'close', 'volume']\n",
    "    return df"
   ]
  },
  {
   "cell_type": "code",
   "execution_count": 4,
   "metadata": {},
   "outputs": [],
   "source": [
    "worldTradingData_APIKey = ''\n",
    "def getWorldTradingData_Intraday1min(symbol, days=1, interval=1) :\n",
    "    # limits on the inputs https://www.worldtradingdata.com/documentation#stock-and-index-intraday\n",
    "    link = \"https://intraday.worldtradingdata.com/api/v1/intraday?symbol={}&range={}&interval={}&api_token={}\"\\\n",
    "        .format(symbol, days, interval, worldTradingData_APIKey)\n",
    "    request = requests.get(link)\n",
    "    data = json.loads(request.text)\n",
    "    stock_data = json.dumps(data[\"intraday\"])\n",
    "    df = pd.read_json(stock_data).transpose()\n",
    "    cols = ['open', 'high', 'low', 'close', 'volume']\n",
    "    df = df[cols]\n",
    "    df.reset_index(level=0, inplace=True)\n",
    "    df.columns = ['times', 'open', 'high', 'low', 'close', 'volume']\n",
    "    return df\n",
    "    \n",
    "    "
   ]
  },
  {
   "cell_type": "code",
   "execution_count": 5,
   "metadata": {},
   "outputs": [],
   "source": [
    "TSLA_world = getWorldTradingData_Intraday1min(\"TSLA\", days=7)"
   ]
  },
  {
   "cell_type": "code",
   "execution_count": 6,
   "metadata": {},
   "outputs": [
    {
     "data": {
      "text/plain": [
       "2726"
      ]
     },
     "execution_count": 6,
     "metadata": {},
     "output_type": "execute_result"
    }
   ],
   "source": [
    "len(TSLA_world)"
   ]
  },
  {
   "cell_type": "code",
   "execution_count": 8,
   "metadata": {},
   "outputs": [
    {
     "data": {
      "text/html": [
       "<div>\n",
       "<style scoped>\n",
       "    .dataframe tbody tr th:only-of-type {\n",
       "        vertical-align: middle;\n",
       "    }\n",
       "\n",
       "    .dataframe tbody tr th {\n",
       "        vertical-align: top;\n",
       "    }\n",
       "\n",
       "    .dataframe thead th {\n",
       "        text-align: right;\n",
       "    }\n",
       "</style>\n",
       "<table border=\"1\" class=\"dataframe\">\n",
       "  <thead>\n",
       "    <tr style=\"text-align: right;\">\n",
       "      <th></th>\n",
       "      <th>times</th>\n",
       "      <th>open</th>\n",
       "      <th>high</th>\n",
       "      <th>low</th>\n",
       "      <th>close</th>\n",
       "      <th>volume</th>\n",
       "    </tr>\n",
       "  </thead>\n",
       "  <tbody>\n",
       "    <tr>\n",
       "      <th>0</th>\n",
       "      <td>2019-11-15 15:59:00</td>\n",
       "      <td>352.24</td>\n",
       "      <td>352.30</td>\n",
       "      <td>351.67</td>\n",
       "      <td>352.24</td>\n",
       "      <td>69161.0</td>\n",
       "    </tr>\n",
       "    <tr>\n",
       "      <th>1</th>\n",
       "      <td>2019-11-15 15:58:00</td>\n",
       "      <td>352.20</td>\n",
       "      <td>352.32</td>\n",
       "      <td>352.07</td>\n",
       "      <td>352.23</td>\n",
       "      <td>48294.0</td>\n",
       "    </tr>\n",
       "    <tr>\n",
       "      <th>2</th>\n",
       "      <td>2019-11-15 15:57:00</td>\n",
       "      <td>352.07</td>\n",
       "      <td>352.24</td>\n",
       "      <td>352.06</td>\n",
       "      <td>352.24</td>\n",
       "      <td>24071.0</td>\n",
       "    </tr>\n",
       "    <tr>\n",
       "      <th>3</th>\n",
       "      <td>2019-11-15 15:56:00</td>\n",
       "      <td>352.19</td>\n",
       "      <td>352.27</td>\n",
       "      <td>352.00</td>\n",
       "      <td>352.11</td>\n",
       "      <td>38449.0</td>\n",
       "    </tr>\n",
       "    <tr>\n",
       "      <th>4</th>\n",
       "      <td>2019-11-15 15:55:00</td>\n",
       "      <td>352.13</td>\n",
       "      <td>352.22</td>\n",
       "      <td>352.08</td>\n",
       "      <td>352.20</td>\n",
       "      <td>20169.0</td>\n",
       "    </tr>\n",
       "    <tr>\n",
       "      <th>5</th>\n",
       "      <td>2019-11-15 15:54:00</td>\n",
       "      <td>352.20</td>\n",
       "      <td>352.20</td>\n",
       "      <td>352.00</td>\n",
       "      <td>352.13</td>\n",
       "      <td>14086.0</td>\n",
       "    </tr>\n",
       "    <tr>\n",
       "      <th>6</th>\n",
       "      <td>2019-11-15 15:53:00</td>\n",
       "      <td>352.10</td>\n",
       "      <td>352.19</td>\n",
       "      <td>352.00</td>\n",
       "      <td>352.19</td>\n",
       "      <td>18644.0</td>\n",
       "    </tr>\n",
       "    <tr>\n",
       "      <th>7</th>\n",
       "      <td>2019-11-15 15:52:00</td>\n",
       "      <td>352.25</td>\n",
       "      <td>352.40</td>\n",
       "      <td>352.06</td>\n",
       "      <td>352.07</td>\n",
       "      <td>41518.0</td>\n",
       "    </tr>\n",
       "    <tr>\n",
       "      <th>8</th>\n",
       "      <td>2019-11-15 15:51:00</td>\n",
       "      <td>352.31</td>\n",
       "      <td>352.36</td>\n",
       "      <td>352.15</td>\n",
       "      <td>352.22</td>\n",
       "      <td>27775.0</td>\n",
       "    </tr>\n",
       "    <tr>\n",
       "      <th>9</th>\n",
       "      <td>2019-11-15 15:50:00</td>\n",
       "      <td>352.47</td>\n",
       "      <td>352.50</td>\n",
       "      <td>352.31</td>\n",
       "      <td>352.31</td>\n",
       "      <td>20715.0</td>\n",
       "    </tr>\n",
       "  </tbody>\n",
       "</table>\n",
       "</div>"
      ],
      "text/plain": [
       "                times    open    high     low   close   volume\n",
       "0 2019-11-15 15:59:00  352.24  352.30  351.67  352.24  69161.0\n",
       "1 2019-11-15 15:58:00  352.20  352.32  352.07  352.23  48294.0\n",
       "2 2019-11-15 15:57:00  352.07  352.24  352.06  352.24  24071.0\n",
       "3 2019-11-15 15:56:00  352.19  352.27  352.00  352.11  38449.0\n",
       "4 2019-11-15 15:55:00  352.13  352.22  352.08  352.20  20169.0\n",
       "5 2019-11-15 15:54:00  352.20  352.20  352.00  352.13  14086.0\n",
       "6 2019-11-15 15:53:00  352.10  352.19  352.00  352.19  18644.0\n",
       "7 2019-11-15 15:52:00  352.25  352.40  352.06  352.07  41518.0\n",
       "8 2019-11-15 15:51:00  352.31  352.36  352.15  352.22  27775.0\n",
       "9 2019-11-15 15:50:00  352.47  352.50  352.31  352.31  20715.0"
      ]
     },
     "execution_count": 8,
     "metadata": {},
     "output_type": "execute_result"
    }
   ],
   "source": [
    "TSLA_world.head(10)"
   ]
  },
  {
   "cell_type": "code",
   "execution_count": 7,
   "metadata": {},
   "outputs": [
    {
     "data": {
      "text/html": [
       "<div>\n",
       "<style scoped>\n",
       "    .dataframe tbody tr th:only-of-type {\n",
       "        vertical-align: middle;\n",
       "    }\n",
       "\n",
       "    .dataframe tbody tr th {\n",
       "        vertical-align: top;\n",
       "    }\n",
       "\n",
       "    .dataframe thead th {\n",
       "        text-align: right;\n",
       "    }\n",
       "</style>\n",
       "<table border=\"1\" class=\"dataframe\">\n",
       "  <thead>\n",
       "    <tr style=\"text-align: right;\">\n",
       "      <th></th>\n",
       "      <th>times</th>\n",
       "      <th>open</th>\n",
       "      <th>high</th>\n",
       "      <th>low</th>\n",
       "      <th>close</th>\n",
       "      <th>volume</th>\n",
       "    </tr>\n",
       "  </thead>\n",
       "  <tbody>\n",
       "    <tr>\n",
       "      <th>2721</th>\n",
       "      <td>2019-11-07 09:34:00</td>\n",
       "      <td>329.25</td>\n",
       "      <td>329.25</td>\n",
       "      <td>329.16</td>\n",
       "      <td>329.16</td>\n",
       "      <td>70291.0</td>\n",
       "    </tr>\n",
       "    <tr>\n",
       "      <th>2722</th>\n",
       "      <td>2019-11-07 09:33:00</td>\n",
       "      <td>330.15</td>\n",
       "      <td>330.66</td>\n",
       "      <td>328.02</td>\n",
       "      <td>328.22</td>\n",
       "      <td>106696.0</td>\n",
       "    </tr>\n",
       "    <tr>\n",
       "      <th>2723</th>\n",
       "      <td>2019-11-07 09:32:00</td>\n",
       "      <td>330.46</td>\n",
       "      <td>330.99</td>\n",
       "      <td>330.00</td>\n",
       "      <td>330.01</td>\n",
       "      <td>96695.0</td>\n",
       "    </tr>\n",
       "    <tr>\n",
       "      <th>2724</th>\n",
       "      <td>2019-11-07 09:31:00</td>\n",
       "      <td>328.85</td>\n",
       "      <td>330.60</td>\n",
       "      <td>328.44</td>\n",
       "      <td>330.60</td>\n",
       "      <td>201490.0</td>\n",
       "    </tr>\n",
       "    <tr>\n",
       "      <th>2725</th>\n",
       "      <td>2019-11-07 09:30:00</td>\n",
       "      <td>329.14</td>\n",
       "      <td>329.37</td>\n",
       "      <td>328.83</td>\n",
       "      <td>328.83</td>\n",
       "      <td>339302.0</td>\n",
       "    </tr>\n",
       "  </tbody>\n",
       "</table>\n",
       "</div>"
      ],
      "text/plain": [
       "                   times    open    high     low   close    volume\n",
       "2721 2019-11-07 09:34:00  329.25  329.25  329.16  329.16   70291.0\n",
       "2722 2019-11-07 09:33:00  330.15  330.66  328.02  328.22  106696.0\n",
       "2723 2019-11-07 09:32:00  330.46  330.99  330.00  330.01   96695.0\n",
       "2724 2019-11-07 09:31:00  328.85  330.60  328.44  330.60  201490.0\n",
       "2725 2019-11-07 09:30:00  329.14  329.37  328.83  328.83  339302.0"
      ]
     },
     "execution_count": 7,
     "metadata": {},
     "output_type": "execute_result"
    }
   ],
   "source": [
    "TSLA_world.tail()"
   ]
  },
  {
   "cell_type": "code",
   "execution_count": 16,
   "metadata": {},
   "outputs": [],
   "source": [
    "tsla_df = getIntraday1minDF(\"TSLA\")\n",
    "# msft_df = getIntraday1minDF(\"MSFT\")"
   ]
  },
  {
   "cell_type": "code",
   "execution_count": 17,
   "metadata": {},
   "outputs": [
    {
     "data": {
      "text/plain": [
       "1932"
      ]
     },
     "execution_count": 17,
     "metadata": {},
     "output_type": "execute_result"
    }
   ],
   "source": [
    "len(tsla_df)"
   ]
  },
  {
   "cell_type": "code",
   "execution_count": 18,
   "metadata": {},
   "outputs": [
    {
     "data": {
      "text/html": [
       "<div>\n",
       "<style scoped>\n",
       "    .dataframe tbody tr th:only-of-type {\n",
       "        vertical-align: middle;\n",
       "    }\n",
       "\n",
       "    .dataframe tbody tr th {\n",
       "        vertical-align: top;\n",
       "    }\n",
       "\n",
       "    .dataframe thead th {\n",
       "        text-align: right;\n",
       "    }\n",
       "</style>\n",
       "<table border=\"1\" class=\"dataframe\">\n",
       "  <thead>\n",
       "    <tr style=\"text-align: right;\">\n",
       "      <th></th>\n",
       "      <th>times</th>\n",
       "      <th>open</th>\n",
       "      <th>high</th>\n",
       "      <th>low</th>\n",
       "      <th>close</th>\n",
       "      <th>volume</th>\n",
       "    </tr>\n",
       "  </thead>\n",
       "  <tbody>\n",
       "    <tr>\n",
       "      <th>0</th>\n",
       "      <td>2019-11-15 16:00:00</td>\n",
       "      <td>352.250</td>\n",
       "      <td>352.32</td>\n",
       "      <td>351.6900</td>\n",
       "      <td>352.240</td>\n",
       "      <td>68849.0</td>\n",
       "    </tr>\n",
       "    <tr>\n",
       "      <th>1</th>\n",
       "      <td>2019-11-15 15:59:00</td>\n",
       "      <td>352.200</td>\n",
       "      <td>352.32</td>\n",
       "      <td>352.0700</td>\n",
       "      <td>352.230</td>\n",
       "      <td>48294.0</td>\n",
       "    </tr>\n",
       "    <tr>\n",
       "      <th>2</th>\n",
       "      <td>2019-11-15 15:58:00</td>\n",
       "      <td>352.070</td>\n",
       "      <td>352.24</td>\n",
       "      <td>352.0600</td>\n",
       "      <td>352.240</td>\n",
       "      <td>24071.0</td>\n",
       "    </tr>\n",
       "    <tr>\n",
       "      <th>3</th>\n",
       "      <td>2019-11-15 15:57:00</td>\n",
       "      <td>352.190</td>\n",
       "      <td>352.27</td>\n",
       "      <td>352.0000</td>\n",
       "      <td>352.110</td>\n",
       "      <td>38449.0</td>\n",
       "    </tr>\n",
       "    <tr>\n",
       "      <th>4</th>\n",
       "      <td>2019-11-15 15:56:00</td>\n",
       "      <td>352.130</td>\n",
       "      <td>352.22</td>\n",
       "      <td>352.0800</td>\n",
       "      <td>352.195</td>\n",
       "      <td>20169.0</td>\n",
       "    </tr>\n",
       "    <tr>\n",
       "      <th>5</th>\n",
       "      <td>2019-11-15 15:55:00</td>\n",
       "      <td>352.200</td>\n",
       "      <td>352.20</td>\n",
       "      <td>352.0000</td>\n",
       "      <td>352.130</td>\n",
       "      <td>14086.0</td>\n",
       "    </tr>\n",
       "    <tr>\n",
       "      <th>6</th>\n",
       "      <td>2019-11-15 15:54:00</td>\n",
       "      <td>352.095</td>\n",
       "      <td>352.19</td>\n",
       "      <td>352.0000</td>\n",
       "      <td>352.190</td>\n",
       "      <td>18644.0</td>\n",
       "    </tr>\n",
       "    <tr>\n",
       "      <th>7</th>\n",
       "      <td>2019-11-15 15:53:00</td>\n",
       "      <td>352.250</td>\n",
       "      <td>352.40</td>\n",
       "      <td>352.0616</td>\n",
       "      <td>352.070</td>\n",
       "      <td>41518.0</td>\n",
       "    </tr>\n",
       "    <tr>\n",
       "      <th>8</th>\n",
       "      <td>2019-11-15 15:52:00</td>\n",
       "      <td>352.310</td>\n",
       "      <td>352.36</td>\n",
       "      <td>352.1500</td>\n",
       "      <td>352.220</td>\n",
       "      <td>27775.0</td>\n",
       "    </tr>\n",
       "    <tr>\n",
       "      <th>9</th>\n",
       "      <td>2019-11-15 15:51:00</td>\n",
       "      <td>352.470</td>\n",
       "      <td>352.50</td>\n",
       "      <td>352.3100</td>\n",
       "      <td>352.310</td>\n",
       "      <td>20715.0</td>\n",
       "    </tr>\n",
       "  </tbody>\n",
       "</table>\n",
       "</div>"
      ],
      "text/plain": [
       "                times     open    high       low    close   volume\n",
       "0 2019-11-15 16:00:00  352.250  352.32  351.6900  352.240  68849.0\n",
       "1 2019-11-15 15:59:00  352.200  352.32  352.0700  352.230  48294.0\n",
       "2 2019-11-15 15:58:00  352.070  352.24  352.0600  352.240  24071.0\n",
       "3 2019-11-15 15:57:00  352.190  352.27  352.0000  352.110  38449.0\n",
       "4 2019-11-15 15:56:00  352.130  352.22  352.0800  352.195  20169.0\n",
       "5 2019-11-15 15:55:00  352.200  352.20  352.0000  352.130  14086.0\n",
       "6 2019-11-15 15:54:00  352.095  352.19  352.0000  352.190  18644.0\n",
       "7 2019-11-15 15:53:00  352.250  352.40  352.0616  352.070  41518.0\n",
       "8 2019-11-15 15:52:00  352.310  352.36  352.1500  352.220  27775.0\n",
       "9 2019-11-15 15:51:00  352.470  352.50  352.3100  352.310  20715.0"
      ]
     },
     "execution_count": 18,
     "metadata": {},
     "output_type": "execute_result"
    }
   ],
   "source": [
    "tsla_df.head(10)"
   ]
  },
  {
   "cell_type": "code",
   "execution_count": 19,
   "metadata": {},
   "outputs": [
    {
     "data": {
      "text/html": [
       "<div>\n",
       "<style scoped>\n",
       "    .dataframe tbody tr th:only-of-type {\n",
       "        vertical-align: middle;\n",
       "    }\n",
       "\n",
       "    .dataframe tbody tr th {\n",
       "        vertical-align: top;\n",
       "    }\n",
       "\n",
       "    .dataframe thead th {\n",
       "        text-align: right;\n",
       "    }\n",
       "</style>\n",
       "<table border=\"1\" class=\"dataframe\">\n",
       "  <thead>\n",
       "    <tr style=\"text-align: right;\">\n",
       "      <th></th>\n",
       "      <th>times</th>\n",
       "      <th>open</th>\n",
       "      <th>high</th>\n",
       "      <th>low</th>\n",
       "      <th>close</th>\n",
       "      <th>volume</th>\n",
       "    </tr>\n",
       "  </thead>\n",
       "  <tbody>\n",
       "    <tr>\n",
       "      <th>1927</th>\n",
       "      <td>2019-11-11 09:35:00</td>\n",
       "      <td>344.6850</td>\n",
       "      <td>344.6850</td>\n",
       "      <td>344.6850</td>\n",
       "      <td>344.6850</td>\n",
       "      <td>100037.0</td>\n",
       "    </tr>\n",
       "    <tr>\n",
       "      <th>1928</th>\n",
       "      <td>2019-11-11 09:34:00</td>\n",
       "      <td>346.3225</td>\n",
       "      <td>346.6726</td>\n",
       "      <td>345.0549</td>\n",
       "      <td>345.1668</td>\n",
       "      <td>137126.0</td>\n",
       "    </tr>\n",
       "    <tr>\n",
       "      <th>1929</th>\n",
       "      <td>2019-11-11 09:33:00</td>\n",
       "      <td>345.6191</td>\n",
       "      <td>346.8858</td>\n",
       "      <td>345.4845</td>\n",
       "      <td>346.3591</td>\n",
       "      <td>139328.0</td>\n",
       "    </tr>\n",
       "    <tr>\n",
       "      <th>1930</th>\n",
       "      <td>2019-11-11 09:32:00</td>\n",
       "      <td>342.3100</td>\n",
       "      <td>345.7700</td>\n",
       "      <td>342.2200</td>\n",
       "      <td>345.4100</td>\n",
       "      <td>282506.0</td>\n",
       "    </tr>\n",
       "    <tr>\n",
       "      <th>1931</th>\n",
       "      <td>2019-11-11 09:31:00</td>\n",
       "      <td>343.7409</td>\n",
       "      <td>344.3275</td>\n",
       "      <td>342.3355</td>\n",
       "      <td>342.4209</td>\n",
       "      <td>458958.0</td>\n",
       "    </tr>\n",
       "  </tbody>\n",
       "</table>\n",
       "</div>"
      ],
      "text/plain": [
       "                   times      open      high       low     close    volume\n",
       "1927 2019-11-11 09:35:00  344.6850  344.6850  344.6850  344.6850  100037.0\n",
       "1928 2019-11-11 09:34:00  346.3225  346.6726  345.0549  345.1668  137126.0\n",
       "1929 2019-11-11 09:33:00  345.6191  346.8858  345.4845  346.3591  139328.0\n",
       "1930 2019-11-11 09:32:00  342.3100  345.7700  342.2200  345.4100  282506.0\n",
       "1931 2019-11-11 09:31:00  343.7409  344.3275  342.3355  342.4209  458958.0"
      ]
     },
     "execution_count": 19,
     "metadata": {},
     "output_type": "execute_result"
    }
   ],
   "source": [
    "tsla_df.tail()"
   ]
  },
  {
   "cell_type": "code",
   "execution_count": 20,
   "metadata": {},
   "outputs": [],
   "source": [
    "def plotOpenPrices(dataframe):\n",
    "    open_prices = [close_stock for open_stock, close_stock in zip(dataframe['open'], dataframe['close'])]\n",
    "    plt.plot(dataframe.index, open_prices)\n",
    "    plt.xlim(len(dataframe.index)+10,0-10)\n",
    "    plt.xlabel('Minutes before now (in 1 minute intervals)')\n",
    "    plt.ylabel('Open price')\n",
    "    plt.title('Market Price for the past in 1 min intervals')\n",
    "    plt.show()\n",
    "    \n",
    "    "
   ]
  },
  {
   "cell_type": "code",
   "execution_count": 21,
   "metadata": {},
   "outputs": [
    {
     "data": {
      "image/png": "[encoded data removed]",
      "text/plain": [
       "<Figure size 432x288 with 1 Axes>"
      ]
     },
     "metadata": {
      "needs_background": "light"
     },
     "output_type": "display_data"
    }
   ],
   "source": [
    "plotOpenPrices(TSLA_world)"
   ]
  },
  {
   "cell_type": "code",
   "execution_count": 22,
   "metadata": {},
   "outputs": [
    {
     "data": {
      "image/png": "[encoded data removed]",
      "text/plain": [
       "<Figure size 432x288 with 1 Axes>"
      ]
     },
     "metadata": {
      "needs_background": "light"
     },
     "output_type": "display_data"
    }
   ],
   "source": [
    "plotOpenPrices(tsla_df)"
   ]
  },
  {
   "cell_type": "code",
   "execution_count": null,
   "metadata": {},
   "outputs": [],
   "source": []
  }
 ],
 "metadata": {
  "kernelspec": {
   "display_name": "Python 2",
   "language": "python",
   "name": "python2"
  },
  "language_info": {
   "codemirror_mode": {
    "name": "ipython",
    "version": 2
   },
   "file_extension": ".py",
   "mimetype": "text/x-python",
   "name": "python",
   "nbconvert_exporter": "python",
   "pygments_lexer": "ipython2",
   "version": "2.7.16"
  }
 },
 "nbformat": 4,
 "nbformat_minor": 2
}
