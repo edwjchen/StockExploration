{
 "cells": [
  {
   "cell_type": "markdown",
   "metadata": {},
   "source": [
    "# Cogs 109: Modeling and Data Analysis\n",
    "## Final project guidelines, 2019\n",
    "\n",
    "Work in teams of at least 2 and no more than 4 students. Every student in the group will be expected to contribute substantially to the final product(s), and all students should be able to understand and explain all aspects of the project when you present your work in the final symposium.\n",
    "\n",
    "Your project should. \n",
    "- Identify a real problem, challenge or scientific question which could benefit from data analysis and modeling. Your final report must explain why the question is interesting or important. \n",
    "- Identify a relevant data set. You should learn about how the data was collected and be able to explain key features of the data, for example: How many observations? What are the noise sources? What are the relevant predictors?\n",
    "Identify at least one relevant data analysis approach, choosing from the methods covered in the course (linear or nonlinear regression, classification, clustering, PCA, etc.). Explain why this analysis approach is appropriate for addressing your question.\n",
    "- Identify and explain one or more hypotheses or initial expectation that you will test using the data.\n",
    "- Model selection: You should compare and contrast multiple different models (at least 2, but usually more). Your comparison should make use of cross-validation, bootstrap sampling, regularization, and/or other relevant techniques. For example, you might compare K-Nearest Neighbors classification for a range of k values (k=1,2,…,50), and select the k value that provides the lowest test set (cross-validation) error.\n",
    "- Model estimation: Implement your data analysis and present the results using a combination of data visualizations (box plots, scatter plots), statistical analyses and models.\n",
    "- Present your conclusions and outlook for next steps/future directions.\n",
    "\n",
    "The final product will be a written report, 5-10 pages in length. In addition, you will create a poster explaining your project to be presented in a symposium session on the last day of class. We will provide more information about the final paper and poster in a few weeks.\n"
   ]
  },
  {
   "cell_type": "markdown",
   "metadata": {},
   "source": [
    "## Written report:\n",
    "Your final report must include the following sections (use these headings).\n",
    "- Introduction. \n",
    "    - Define the real problem and explain its motivation\n",
    "    - Identify the dataset you will use and explain its key characteristics.\n",
    "    - Explain at least one hypothesis that you will test.\n",
    "- Methods. Identify the data analysis approach you will use and explain the rationale/motivation for your choice of this approach.\n",
    "- Results\n",
    "    - Model selection. You MUST compare at least 2 models, using cross-validation, regularization, and/or other relevant techniques.\n",
    "    - Model estimation. What are the final parameter estimates? What is the final accuracy of the model’s predictions?\n",
    "    - Conclusions and discussion. What can you conclude about your hypothesis? (Note that negative or ambiguous results are perfectly acceptable, you just need to explain what you found.) What are some potential implications/next steps for researchers interested in this topic?\n"
   ]
  },
  {
   "cell_type": "code",
   "execution_count": null,
   "metadata": {},
   "outputs": [],
   "source": [
    "import requests\n",
    "import json\n",
    "import pandas as pd\n",
    "import matplotlib.pyplot as plt\n",
    "import pytrends"
   ]
  },
  {
   "cell_type": "code",
   "execution_count": null,
   "metadata": {},
   "outputs": [],
   "source": [
    "companies = ['tesla', 'facebook', 'microsoft', 'amazon', 'google', 'uber', 'lyft', 'apple', 'snap']\n",
    "key_terms = ['report', 'good', 'bad', 'up', 'down', 'stock']\n",
    "company_symbol = ['TSLA']#, 'FB', 'MSFT', 'AMZN', 'GOOGL', 'UBER', 'LYFT', 'AAPL', 'SNAP']"
   ]
  },
  {
   "cell_type": "code",
   "execution_count": null,
   "metadata": {},
   "outputs": [],
   "source": [
    "#create kw_list \n",
    "kw_list = []\n",
    "for c_name in companies:\n",
    "    for k in key_terms:\n",
    "        kw_list.append(c_name + \" \" + k)"
   ]
  },
  {
   "cell_type": "code",
   "execution_count": null,
   "metadata": {},
   "outputs": [],
   "source": [
    "df = pd.DataFrame()\n",
    "print(df.empty)\n",
    "pytrends = TrendReq(hl='en-US', tz=360)\n",
    "for kw in kw_list:\n",
    "    pytrends.build_payload([kw], cat=0, timeframe='today 3-m', geo='', gprop='')\n",
    "    df_temp = pytrends.interest_over_time()\n",
    "    df_temp = df_temp.drop(['isPartial'], axis=1)\n",
    "    print(df_temp.columns)\n",
    "    if df.empty:\n",
    "        df = df_temp\n",
    "    else:\n",
    "        df = df.join(df_temp)"
   ]
  },
  {
   "cell_type": "code",
   "execution_count": null,
   "metadata": {},
   "outputs": [],
   "source": [
    "print(df.shape)"
   ]
  },
  {
   "cell_type": "code",
   "execution_count": null,
   "metadata": {},
   "outputs": [],
   "source": [
    "# get tsla stock for last 7 days\n",
    "ts = 'TIME_SERIES_DAILY'\n",
    "api_key = ''\n",
    "outputsize = 'compact'\n",
    "df_stocks = {}\n",
    "for i, symbol in enumerate(company_symbol):\n",
    "    link = 'https://www.alphavantage.co/query?function={}&symbol={}&apikey={}&outputsize={}'\\\n",
    "            .format(ts, symbol, api_key, outputsize)\n",
    "    r = requests.get(link)\n",
    "    data = json.loads(r.text)\n",
    "    stock_data_per_day = json.dumps(data[\"Time Series (Daily)\"])\n",
    "    df_temp = pd.read_json(stock_data_per_day).transpose()\n",
    "    df_temp.reset_index(level=0, inplace=True)\n",
    "    df_temp.columns = ['times', 'open', 'high', 'low', 'close', 'volume']\n",
    "    df_stocks[companies[i]] = df_temp\n",
    "print(df_stocks['tesla'])"
   ]
  },
  {
   "cell_type": "code",
   "execution_count": null,
   "metadata": {},
   "outputs": [],
   "source": [
    "df.head()"
   ]
  },
  {
   "cell_type": "code",
   "execution_count": null,
   "metadata": {},
   "outputs": [],
   "source": [
    "df_stocks['tesla'].head()"
   ]
  },
  {
   "cell_type": "code",
   "execution_count": null,
   "metadata": {},
   "outputs": [],
   "source": [
    "#reverse df rows\n",
    "df = df.iloc[::-1]\n",
    "df.head()"
   ]
  },
  {
   "cell_type": "code",
   "execution_count": null,
   "metadata": {},
   "outputs": [],
   "source": [
    "tesla_names = [x for x in list(df.columns.values) if 'tesla' in x]\n",
    "df_tesla_trends = df[tesla_names]"
   ]
  },
  {
   "cell_type": "code",
   "execution_count": null,
   "metadata": {},
   "outputs": [],
   "source": [
    "stock_times = df_stocks['tesla'].times\n",
    "trends_times = list(df_tesla_trends.index)\n",
    "joint_times = list(set(stock_times) & set(trends_times)) "
   ]
  },
  {
   "cell_type": "code",
   "execution_count": null,
   "metadata": {},
   "outputs": [],
   "source": [
    "df_stocks['tesla'] = df_stocks['tesla'].loc[df_stocks['tesla']['times'].isin(joint_times)]\n",
    "df_stocks['tesla'] = df_stocks['tesla'].reset_index()\n",
    "print(df_stocks['tesla'].head())\n",
    "df_tesla_trends = df_tesla_trends.loc[df_tesla_trends.index.isin(joint_times)]\n",
    "df_tesla_trends = df_tesla_trends.reset_index()\n",
    "df_tesla_trends.columns = ['_'.join(x.split()) for x in list(df_tesla_trends.columns) if len(x) > 1]\n",
    "print(df_tesla_trends.head())"
   ]
  },
  {
   "cell_type": "code",
   "execution_count": null,
   "metadata": {},
   "outputs": [],
   "source": [
    "df_tesla = df_tesla_trends.join(df_stocks['tesla'])"
   ]
  },
  {
   "cell_type": "code",
   "execution_count": null,
   "metadata": {},
   "outputs": [],
   "source": [
    "df_tesla['profit'] = df_tesla['open']-df_tesla['close']\n",
    "df_tesla = df_tesla.iloc[::-1]\n",
    "df_tesla.head()"
   ]
  },
  {
   "cell_type": "code",
   "execution_count": null,
   "metadata": {},
   "outputs": [],
   "source": [
    "# Split into training and testing data\n",
    "df_tesla_train = df_tesla[:50]\n",
    "print(df_tesla_train.shape)\n",
    "df_tesla_test = df_tesla[50:]\n",
    "print(df_tesla_test.shape)"
   ]
  },
  {
   "cell_type": "code",
   "execution_count": null,
   "metadata": {},
   "outputs": [],
   "source": [
    "from sklearn.metrics import mean_squared_error\n",
    "import statsmodels.api as sm\n",
    "from sklearn.linear_model import Ridge\n",
    "import numpy as np"
   ]
  },
  {
   "cell_type": "code",
   "execution_count": null,
   "metadata": {},
   "outputs": [],
   "source": [
    "mdl=sm.formula.ols(formula='profit ~ 1 + tesla_report + tesla_good + tesla_bad + tesla_up + tesla_down', data=df_tesla_train).fit()\n",
    "mdl.summary()"
   ]
  },
  {
   "cell_type": "code",
   "execution_count": null,
   "metadata": {},
   "outputs": [],
   "source": [
    "mdl=sm.formula.ols(formula='close ~ 1 + tesla_report + tesla_good + tesla_bad + tesla_up + tesla_down', data=df_tesla_train).fit()\n",
    "mdl.summary()"
   ]
  },
  {
   "cell_type": "code",
   "execution_count": null,
   "metadata": {},
   "outputs": [],
   "source": [
    "cols = ['tesla_report', 'tesla_good', 'tesla_bad', 'tesla_up', 'tesla_down']"
   ]
  },
  {
   "cell_type": "code",
   "execution_count": null,
   "metadata": {},
   "outputs": [],
   "source": [
    "#ridge regression\n",
    "X = df_tesla_train[cols]\n",
    "y = df_tesla_train['profit']\n",
    "alpha = []\n",
    "MSE_train = []\n",
    "MSE_test = []\n",
    "for i in range(90, 1000, 10):\n",
    "    clf = Ridge(alpha=i)\n",
    "    clf.fit(X, y) \n",
    "    print(\"alpha: \"+str(i))\n",
    "    print(\"Training error = \"+str(mean_squared_error(clf.predict(df_tesla_train[cols]), df_tesla_train['profit'])))\n",
    "    print(\"Testing error = \"+str(mean_squared_error(clf.predict(df_tesla_test[cols]), df_tesla_test['profit'])))\n",
    "    print()\n",
    "    alpha.append(i)\n",
    "    MSE_train.append(mean_squared_error(clf.predict(df_tesla_train[cols]), df_tesla_train['profit']))\n",
    "    MSE_test.append(mean_squared_error(clf.predict(df_tesla_test[cols]), df_tesla_test['profit']))"
   ]
  },
  {
   "cell_type": "code",
   "execution_count": null,
   "metadata": {},
   "outputs": [],
   "source": [
    "#ridge regression\n",
    "X = df_tesla_train[cols]\n",
    "y = df_tesla_train['close']\n",
    "clf = Ridge(alpha=20000.0)\n",
    "clf.fit(X, y) \n",
    "print(\"Training error = \"+str(mean_squared_error(clf.predict(df_tesla_train[cols]), df_tesla_train['close'])))\n",
    "print(\"Testing error = \"+str(mean_squared_error(clf.predict(df_tesla_test[cols]), df_tesla_test['close'])))"
   ]
  },
  {
   "cell_type": "code",
   "execution_count": null,
   "metadata": {},
   "outputs": [],
   "source": []
  }
 ],
 "metadata": {
  "kernelspec": {
   "display_name": "Python 3",
   "language": "python",
   "name": "python3"
  },
  "language_info": {
   "codemirror_mode": {
    "name": "ipython",
    "version": 3
   },
   "file_extension": ".py",
   "mimetype": "text/x-python",
   "name": "python",
   "nbconvert_exporter": "python",
   "pygments_lexer": "ipython3",
   "version": "3.6.0"
  }
 },
 "nbformat": 4,
 "nbformat_minor": 2
}
